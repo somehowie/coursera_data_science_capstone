{
  "nbformat": 4,
  "nbformat_minor": 0,
  "metadata": {
    "colab": {
      "name": "capstone_project.ipynb",
      "provenance": [],
      "collapsed_sections": []
    },
    "kernelspec": {
      "name": "python3",
      "display_name": "Python 3"
    }
  },
  "cells": [
    {
      "cell_type": "markdown",
      "metadata": {
        "id": "RntraFW-5JLP",
        "colab_type": "text"
      },
      "source": [
        "# **Capstone Project - Green Tea Restaurant Relocation**\n",
        "\n",
        "*This is the notebook for Coursera IBM Data Science Capstone Project.*\n"
      ]
    },
    {
      "cell_type": "markdown",
      "metadata": {
        "id": "ik7m2xiF1cfI",
        "colab_type": "text"
      },
      "source": [
        "## Import all Libraries\n",
        "Thie way, we only need to run this cell once."
      ]
    },
    {
      "cell_type": "code",
      "metadata": {
        "id": "tL0yU6LA8vrP",
        "colab_type": "code",
        "outputId": "0ed15063-0019-4e02-b4e4-824403de33e4",
        "colab": {
          "base_uri": "https://localhost:8080/",
          "height": 171
        }
      },
      "source": [
        "# this way, we only need to run this cell once\n",
        "\n",
        "import requests # library to handle requests\n",
        "import pandas as pd # library for data analsysis\n",
        "import numpy as np # library to handle data in a vectorized manner\n",
        "\n",
        "# clustering algorithm library\n",
        "from sklearn.cluster import KMeans\n",
        "\n",
        "# The Python Math Library provides us access to\n",
        "# some common math functions and constants in Python\n",
        "import math\n",
        "\n",
        "# The pickle module implements binary protocols\n",
        "# for serializing and de-serializing a Python object structure.\n",
        "import pickle\n",
        "\n",
        "# Performs cartographic transformations (converts from longitude,latitude\n",
        "# to native map projection x,y coordinates and vice versa) using proj (https://proj.org)\n",
        "!pip install pyproj\n",
        "import pyproj\n",
        "\n",
        "import progressbar # library to show a progress bar while the code is processing data.\n",
        "\n",
        "# tranforming json file into a pandas dataframe library\n",
        "from pandas.io.json import json_normalize\n",
        "\n",
        "!conda install -c conda-forge folium=0.5.0 --yes\n",
        "import folium # plotting library\n",
        "from folium import plugins\n",
        "from folium.plugins import HeatMap\n",
        "\n",
        "print('Folium installed')\n",
        "print('Libraries imported.')"
      ],
      "execution_count": 1,
      "outputs": [
        {
          "output_type": "stream",
          "text": [
            "Collecting pyproj\n",
            "\u001b[?25l  Downloading https://files.pythonhosted.org/packages/d6/70/eedc98cd52b86de24a1589c762612a98bea26cde649ffdd60c1db396cce8/pyproj-2.4.2.post1-cp36-cp36m-manylinux2010_x86_64.whl (10.1MB)\n",
            "\u001b[K     |████████████████████████████████| 10.1MB 4.3MB/s \n",
            "\u001b[?25hInstalling collected packages: pyproj\n",
            "Successfully installed pyproj-2.4.2.post1\n",
            "/bin/bash: conda: command not found\n",
            "Folium installed\n",
            "Libraries imported.\n"
          ],
          "name": "stdout"
        }
      ]
    },
    {
      "cell_type": "markdown",
      "metadata": {
        "id": "Ck3OsU7T2AV5",
        "colab_type": "text"
      },
      "source": [
        "## Create Neighborhood for Edmonton\n"
      ]
    },
    {
      "cell_type": "markdown",
      "metadata": {
        "id": "7lmG61iG2WkN",
        "colab_type": "text"
      },
      "source": [
        "### API Credentials\n",
        "The following cell contains API credentials which will be removed/hidden prior to pushing to the repository."
      ]
    },
    {
      "cell_type": "code",
      "metadata": {
        "id": "lACeXGlER3Zl",
        "colab_type": "code",
        "outputId": "810e4a89-3534-485b-ef52-997735e80b30",
        "colab": {
          "base_uri": "https://localhost:8080/",
          "height": 34
        }
      },
      "source": [
        "google_api_key = '***'\n",
        "\n",
        "fs_client_id = '***'\n",
        "fs_client_secret = '***'\n",
        "\n",
        "print (\"\\\"Roger that, sir!\\\"\")"
      ],
      "execution_count": 2,
      "outputs": [
        {
          "output_type": "stream",
          "text": [
            "\"Roger that, sir!\"\n"
          ],
          "name": "stdout"
        }
      ]
    },
    {
      "cell_type": "markdown",
      "metadata": {
        "id": "bO6QhKqe3Ad9",
        "colab_type": "text"
      },
      "source": [
        "### Geocoding Request and Response (latitude/longitude lookup)\n",
        "Define a function to enquiry Google Maps Geocoding API for long/lat degree."
      ]
    },
    {
      "cell_type": "code",
      "metadata": {
        "id": "wp36zLUUTDi2",
        "colab_type": "code",
        "colab": {}
      },
      "source": [
        "def g_enquiry (api_key, address, verbose=False):\n",
        "    try:\n",
        "        url = 'https://maps.googleapis.com/maps/api/geocode/json?address={}&key={}'.format(address, api_key)\n",
        "        response = requests.get(url).json()\n",
        "        if verbose:\n",
        "            print('Google Maps API JSON result =>', response)\n",
        "        results = response['results']\n",
        "        geographical_data = results[0]['geometry']['location'] # get geographical coordinates\n",
        "        lat = geographical_data['lat']\n",
        "        lon = geographical_data['lng']\n",
        "        return [lat, lon]\n",
        "    except:\n",
        "        return [None, None]"
      ],
      "execution_count": 0,
      "outputs": []
    },
    {
      "cell_type": "markdown",
      "metadata": {
        "id": "vWXrC8Vg5995",
        "colab_type": "text"
      },
      "source": [
        "Let's test the function."
      ]
    },
    {
      "cell_type": "code",
      "metadata": {
        "id": "OhpW-0Vc58pX",
        "colab_type": "code",
        "outputId": "71e52fe4-3cd6-4dfe-882c-5e33d4973d9e",
        "colab": {
          "base_uri": "https://localhost:8080/",
          "height": 34
        }
      },
      "source": [
        "address = 'Rogers Place, Edmonton, Alberta'\n",
        "dt_yeg = g_enquiry (google_api_key, address)\n",
        "print('Coordinate of {} is {}'.format(address, dt_yeg))"
      ],
      "execution_count": 4,
      "outputs": [
        {
          "output_type": "stream",
          "text": [
            "Coordinate of Rogers Place, Edmonton, Alberta is [53.54623600000001, -113.497221]\n"
          ],
          "name": "stdout"
        }
      ]
    },
    {
      "cell_type": "markdown",
      "metadata": {
        "id": "ttdc0xnLySFZ",
        "colab_type": "text"
      },
      "source": [
        "Looks good. The function will be used to extract long/lat degree of locations.\n",
        "However, we are not able to calculate distance given the traditional long/lat degree, and therefore, we will need to use the Universal Transverse Mercator ([UTM](https://en.wikipedia.org/wiki/Universal_Transverse_Mercator_coordinate_system)). To do that, we will define functions to covert them back and forth, and to calculate the distances."
      ]
    },
    {
      "cell_type": "code",
      "metadata": {
        "id": "0VNauCbIyOLC",
        "colab_type": "code",
        "colab": {}
      },
      "source": [
        "# Define a function to convert lat/long degree to UTM coordinate.\n",
        "def lonlat_to_utm(lon, lat):\n",
        "    proj_latlon = pyproj.Proj(proj='latlon',datum='WGS84')\n",
        "    proj_utm = pyproj.Proj(proj=\"utm\", zone=12, datum='WGS84')\n",
        "    xy = pyproj.transform(proj_latlon, proj_utm, lon, lat)\n",
        "    return xy[0], xy[1]\n",
        "\n",
        "# Define a function to convert UMT coordiante to lat/long degree\n",
        "def utm_to_lonlat(x, y):\n",
        "    proj_latlon = pyproj.Proj(proj='latlon',datum='WGS84')\n",
        "    proj_utm = pyproj.Proj(proj=\"utm\", zone=12, datum='WGS84')\n",
        "    lonlat = pyproj.transform(proj_utm, proj_latlon, x, y)\n",
        "    return lonlat[0], lonlat[1]\n",
        "\n",
        "# Define a function to calculate the distance between location and downtown.\n",
        "def calc_utm_distance(x1, y1, x2, y2):\n",
        "    return math.sqrt((x2-x1)*(x2-x1) + (y2-y1)*(y2-y1))\n"
      ],
      "execution_count": 0,
      "outputs": []
    },
    {
      "cell_type": "markdown",
      "metadata": {
        "id": "h8H6xjtt0lcq",
        "colab_type": "text"
      },
      "source": [
        "Let's test if the defined functions work well as we expected. The long/lat degree of downtown, Edmonton should be fairly close to the output of utm_to_lonlat function."
      ]
    },
    {
      "cell_type": "code",
      "metadata": {
        "id": "WACb0AMwKjkw",
        "colab_type": "code",
        "outputId": "7f6ebaf2-3eca-4255-f688-db938ede17f1",
        "colab": {
          "base_uri": "https://localhost:8080/",
          "height": 118
        }
      },
      "source": [
        "print('Coordinate transformation check')\n",
        "print('-------------------------------')\n",
        "print('Downtown longitude={}, latitude={}'.format(dt_yeg[1], dt_yeg[0]))\n",
        "x, y = lonlat_to_utm(dt_yeg[1], dt_yeg[0])\n",
        "print('dt_yeg UTM X={}, Y={}'.format(x, y))\n",
        "lo, la = utm_to_lonlat(x, y)\n",
        "print('dt_yeg longitude={}, latitude={}'.format(lo, la))\n",
        "print(\"The long/lat degree should be almost the same to the one converted from UTM System\")"
      ],
      "execution_count": 6,
      "outputs": [
        {
          "output_type": "stream",
          "text": [
            "Coordinate transformation check\n",
            "-------------------------------\n",
            "Downtown longitude=-113.497221, latitude=53.54623600000001\n",
            "dt_yeg UTM X=334548.70396402385, Y=5935938.463901036\n",
            "dt_yeg longitude=-113.497221, latitude=53.546236000000015\n",
            "The long/lat degree should be almost the same to the one converted from UTM System\n"
          ],
          "name": "stdout"
        }
      ]
    },
    {
      "cell_type": "markdown",
      "metadata": {
        "id": "LJMnWNPJvhZX",
        "colab_type": "text"
      },
      "source": [
        "The following cell draws circles with a radius of 500 meters. This creates a grid of cells covering our area of interest. The map also shows where the Green Tea Restaurant currently is."
      ]
    },
    {
      "cell_type": "code",
      "metadata": {
        "id": "FH9myBq1Hion",
        "colab_type": "code",
        "outputId": "2eeef776-039a-4ce7-8fa4-34f20546405e",
        "colab": {
          "base_uri": "https://localhost:8080/",
          "height": 556
        }
      },
      "source": [
        "dt_yeg_x, dt_yeg_y = lonlat_to_utm(dt_yeg[1], dt_yeg[0]) # downtown in UTM coordinates\n",
        "\n",
        "k = math.sqrt(3) / 2 # Vertical offset for hexagonal grid cells\n",
        "x_min = dt_yeg_x - 1000\n",
        "x_step = 500\n",
        "y_min = dt_yeg_y - 1000 - (int(21/k)*k*500 - 1000)/2\n",
        "y_step = 500 * k \n",
        "\n",
        "latitudes = []\n",
        "longitudes = []\n",
        "distances_from_dt = []\n",
        "xs = []\n",
        "ys = []\n",
        "for i in range(0, int(21/k)):\n",
        "    y = y_min + i * y_step\n",
        "    x_offset = 250 if i%2==0 else 0\n",
        "    for j in range(0, 21):\n",
        "        x = x_min + j * x_step + x_offset\n",
        "        distance_from_dt = calc_utm_distance(dt_yeg_x, dt_yeg_y, x, y)\n",
        "        if (distance_from_dt <= 1001):\n",
        "            lon, lat = utm_to_lonlat(x, y)\n",
        "            latitudes.append(lat)\n",
        "            longitudes.append(lon)\n",
        "            distances_from_dt.append(distance_from_dt)\n",
        "            xs.append(x)\n",
        "            ys.append(y)\n",
        "\n",
        "print(len(latitudes), 'candidate neighborhood centers generated.')\n",
        "\n",
        "map_yeg = folium.Map(location=dt_yeg, zoom_start=12.2\n",
        ")\n",
        "folium.Marker(location=[53.549231, -113.619792], popup=\"Green Tea Restaurant\", icon=folium.Icon(icon='info-sign')).add_to(map_yeg)\n",
        "folium.Marker(dt_yeg, popup='Downtown').add_to(map_yeg)\n",
        "for lat, lon in zip(latitudes, longitudes):\n",
        "    # folium.CircleMarker([lat, lon], radius=2, color='blue', fill=True, fill_color='blue', fill_opacity=1).add_to(map_yeg) \n",
        "    folium.Circle([lat, lon], radius=250, color='green', fill=False).add_to(map_yeg)\n",
        "    # folium.Marker([lat, lon]).add_to(map_yeg)\n",
        "map_yeg"
      ],
      "execution_count": 7,
      "outputs": [
        {
          "output_type": "stream",
          "text": [
            "15 candidate neighborhood centers generated.\n"
          ],
          "name": "stdout"
        },
        {
          "output_type": "execute_result",
          "data": {
            "text/html": [
              "<div style=\"width:100%;\"><div style=\"position:relative;width:100%;height:0;padding-bottom:60%;\"><iframe src=\"data:text/html;charset=utf-8;base64,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\" style=\"position:absolute;width:100%;height:100%;left:0;top:0;border:none !important;\" allowfullscreen webkitallowfullscreen mozallowfullscreen></iframe></div></div>"
            ],
            "text/plain": [
              "<folium.folium.Map at 0x7f66fc3b5f98>"
            ]
          },
          "metadata": {
            "tags": []
          },
          "execution_count": 7
        }
      ]
    },
    {
      "cell_type": "code",
      "metadata": {
        "id": "bcPU_l0er7vz",
        "colab_type": "code",
        "colab": {}
      },
      "source": [
        "def get_address(api_key, latitude, longitude, verbose=False):\n",
        "    try:\n",
        "        url = 'https://maps.googleapis.com/maps/api/geocode/json?key={}&latlng={},{}'.format(api_key, latitude, longitude)\n",
        "        response = requests.get(url).json()\n",
        "        if verbose:\n",
        "            print('Google Maps API JSON result =>', response)\n",
        "        results = response['results']\n",
        "        address = results[0]['formatted_address']\n",
        "        return address\n",
        "    except:\n",
        "        return None"
      ],
      "execution_count": 0,
      "outputs": []
    },
    {
      "cell_type": "markdown",
      "metadata": {
        "id": "J97uihTy5zjS",
        "colab_type": "text"
      },
      "source": [
        "Let's test the function. This request should return the address given the coordiante of Rogers Place."
      ]
    },
    {
      "cell_type": "code",
      "metadata": {
        "id": "_Xk0RcXc5ymo",
        "colab_type": "code",
        "outputId": "654af60f-7fe2-429c-e7ec-4e3ef97fc08c",
        "colab": {
          "base_uri": "https://localhost:8080/",
          "height": 34
        }
      },
      "source": [
        "addr = get_address(google_api_key, dt_yeg[0], dt_yeg[1])\n",
        "print('Address of [{}, {}] is: {}'.format(dt_yeg[0], dt_yeg[1], addr))"
      ],
      "execution_count": 9,
      "outputs": [
        {
          "output_type": "stream",
          "text": [
            "Address of [53.54623600000001, -113.497221] is: 10232 104 Ave NW, Edmonton, AB T5J 1B9, Canada\n"
          ],
          "name": "stdout"
        }
      ]
    },
    {
      "cell_type": "markdown",
      "metadata": {
        "id": "lg7zCKGD6pio",
        "colab_type": "text"
      },
      "source": [
        "Next, we will use the above function to look up addresses of neighbors."
      ]
    },
    {
      "cell_type": "code",
      "metadata": {
        "id": "hPArK0VE7CD0",
        "colab_type": "code",
        "outputId": "539cd838-16c7-44ae-e549-447c056581ee",
        "colab": {
          "base_uri": "https://localhost:8080/",
          "height": 67
        }
      },
      "source": [
        "loaded = False\n",
        "try:\n",
        "    with open('locations.pkl', 'rb') as f:\n",
        "        df_locations = pickle.load(f)\n",
        "        loaded = True\n",
        "        print('DataFrame imported from local file.')\n",
        "except:\n",
        "    pass\n",
        "\n",
        "if not loaded:\n",
        "    print('Obtaining location addresses...')\n",
        "    addresses = []\n",
        "    for lat, lon in zip(latitudes, longitudes):\n",
        "        address = get_address(google_api_key, lat, lon)\n",
        "        if address is None:\n",
        "            address = 'NO ADDRESS'\n",
        "        address = address.replace(', Canada', '') # We don't need country part of address\n",
        "        addresses.append(address)\n",
        "    print(\"Done!\")\n",
        "    df_locations = pd.DataFrame({'Address': addresses,\n",
        "                        'Latitude': latitudes,\n",
        "                        'Longitude': longitudes,\n",
        "                        'X': xs,\n",
        "                        'Y': ys,\n",
        "                        'Distance from Downtown': distances_from_dt})\n",
        "    # Save to local file\n",
        "    df_locations.to_pickle('./locations.pkl')\n",
        "    print ('DataFrame saved to local file locations.pkl')"
      ],
      "execution_count": 10,
      "outputs": [
        {
          "output_type": "stream",
          "text": [
            "Obtaining location addresses...\n",
            "Done!\n",
            "DataFrame saved to local file locations.pkl\n"
          ],
          "name": "stdout"
        }
      ]
    },
    {
      "cell_type": "code",
      "metadata": {
        "id": "3VYvfYToYyRk",
        "colab_type": "code",
        "outputId": "597721b8-a8e3-4e65-e37e-c2b59424ff09",
        "colab": {
          "base_uri": "https://localhost:8080/",
          "height": 558
        }
      },
      "source": [
        "df_locations"
      ],
      "execution_count": 11,
      "outputs": [
        {
          "output_type": "execute_result",
          "data": {
            "text/html": [
              "<div>\n",
              "<style scoped>\n",
              "    .dataframe tbody tr th:only-of-type {\n",
              "        vertical-align: middle;\n",
              "    }\n",
              "\n",
              "    .dataframe tbody tr th {\n",
              "        vertical-align: top;\n",
              "    }\n",
              "\n",
              "    .dataframe thead th {\n",
              "        text-align: right;\n",
              "    }\n",
              "</style>\n",
              "<table border=\"1\" class=\"dataframe\">\n",
              "  <thead>\n",
              "    <tr style=\"text-align: right;\">\n",
              "      <th></th>\n",
              "      <th>Address</th>\n",
              "      <th>Latitude</th>\n",
              "      <th>Longitude</th>\n",
              "      <th>X</th>\n",
              "      <th>Y</th>\n",
              "      <th>Distance from Downtown</th>\n",
              "    </tr>\n",
              "  </thead>\n",
              "  <tbody>\n",
              "    <tr>\n",
              "      <th>0</th>\n",
              "      <td>9923 103 St NW, Edmonton, AB T5K 2J3</td>\n",
              "      <td>53.537857</td>\n",
              "      <td>-113.496728</td>\n",
              "      <td>334548.703964</td>\n",
              "      <td>5.935005e+06</td>\n",
              "      <td>933.012702</td>\n",
              "    </tr>\n",
              "    <tr>\n",
              "      <th>1</th>\n",
              "      <td>The Executive, 10105 109 St NW, Edmonton, AB T...</td>\n",
              "      <td>53.541509</td>\n",
              "      <td>-113.508264</td>\n",
              "      <td>333798.703964</td>\n",
              "      <td>5.935438e+06</td>\n",
              "      <td>901.387819</td>\n",
              "    </tr>\n",
              "    <tr>\n",
              "      <th>2</th>\n",
              "      <td>105 Street &amp; Jasper Avenue, Edmonton, AB T5J 3N1</td>\n",
              "      <td>53.541667</td>\n",
              "      <td>-113.500726</td>\n",
              "      <td>334298.703964</td>\n",
              "      <td>5.935438e+06</td>\n",
              "      <td>559.016994</td>\n",
              "    </tr>\n",
              "    <tr>\n",
              "      <th>3</th>\n",
              "      <td>10043 Jasper Ave, Edmonton, AB T5J 1S6</td>\n",
              "      <td>53.541825</td>\n",
              "      <td>-113.493188</td>\n",
              "      <td>334798.703964</td>\n",
              "      <td>5.935438e+06</td>\n",
              "      <td>559.016994</td>\n",
              "    </tr>\n",
              "    <tr>\n",
              "      <th>4</th>\n",
              "      <td>9751 Jasper Ave, Edmonton, AB T5J 0C5</td>\n",
              "      <td>53.541982</td>\n",
              "      <td>-113.485649</td>\n",
              "      <td>335298.703964</td>\n",
              "      <td>5.935438e+06</td>\n",
              "      <td>901.387819</td>\n",
              "    </tr>\n",
              "    <tr>\n",
              "      <th>5</th>\n",
              "      <td>107 Street &amp; 103 Avenue, Edmonton, AB T5J 1K3</td>\n",
              "      <td>53.545477</td>\n",
              "      <td>-113.504724</td>\n",
              "      <td>334048.703964</td>\n",
              "      <td>5.935871e+06</td>\n",
              "      <td>504.467341</td>\n",
              "    </tr>\n",
              "    <tr>\n",
              "      <th>6</th>\n",
              "      <td>10340 103 St NW, Edmonton, AB T5J 0Y9</td>\n",
              "      <td>53.545634</td>\n",
              "      <td>-113.497186</td>\n",
              "      <td>334548.703964</td>\n",
              "      <td>5.935871e+06</td>\n",
              "      <td>66.987298</td>\n",
              "    </tr>\n",
              "    <tr>\n",
              "      <th>7</th>\n",
              "      <td>10248 99 St NW, Edmonton, AB T5J</td>\n",
              "      <td>53.545792</td>\n",
              "      <td>-113.489647</td>\n",
              "      <td>335048.703964</td>\n",
              "      <td>5.935871e+06</td>\n",
              "      <td>504.467341</td>\n",
              "    </tr>\n",
              "    <tr>\n",
              "      <th>8</th>\n",
              "      <td>10568 109 St NW, Edmonton, AB T5H 3B2</td>\n",
              "      <td>53.549286</td>\n",
              "      <td>-113.508724</td>\n",
              "      <td>333798.703964</td>\n",
              "      <td>5.936304e+06</td>\n",
              "      <td>834.550535</td>\n",
              "    </tr>\n",
              "    <tr>\n",
              "      <th>9</th>\n",
              "      <td>10572 105 St NW, Edmonton, AB T5H 2W7</td>\n",
              "      <td>53.549444</td>\n",
              "      <td>-113.501184</td>\n",
              "      <td>334298.703964</td>\n",
              "      <td>5.936304e+06</td>\n",
              "      <td>443.254550</td>\n",
              "    </tr>\n",
              "    <tr>\n",
              "      <th>10</th>\n",
              "      <td>10574 101 St NW, Edmonton, AB T5H 2R8</td>\n",
              "      <td>53.549602</td>\n",
              "      <td>-113.493645</td>\n",
              "      <td>334798.703964</td>\n",
              "      <td>5.936304e+06</td>\n",
              "      <td>443.254550</td>\n",
              "    </tr>\n",
              "    <tr>\n",
              "      <th>11</th>\n",
              "      <td>9618 105A Ave, Edmonton, AB T5H 0M4</td>\n",
              "      <td>53.549759</td>\n",
              "      <td>-113.486105</td>\n",
              "      <td>335298.703964</td>\n",
              "      <td>5.936304e+06</td>\n",
              "      <td>834.550535</td>\n",
              "    </tr>\n",
              "    <tr>\n",
              "      <th>12</th>\n",
              "      <td>10808 107 St NW, Edmonton, AB T5H 2Z3</td>\n",
              "      <td>53.553254</td>\n",
              "      <td>-113.505184</td>\n",
              "      <td>334048.703964</td>\n",
              "      <td>5.936738e+06</td>\n",
              "      <td>942.582566</td>\n",
              "    </tr>\n",
              "    <tr>\n",
              "      <th>13</th>\n",
              "      <td>10750 103 St NW, Edmonton, AB T5H 2V8</td>\n",
              "      <td>53.553411</td>\n",
              "      <td>-113.497644</td>\n",
              "      <td>334548.703964</td>\n",
              "      <td>5.936738e+06</td>\n",
              "      <td>799.038106</td>\n",
              "    </tr>\n",
              "    <tr>\n",
              "      <th>14</th>\n",
              "      <td>97 Street &amp; 108 Avenue, Edmonton, AB T5H</td>\n",
              "      <td>53.553569</td>\n",
              "      <td>-113.490104</td>\n",
              "      <td>335048.703964</td>\n",
              "      <td>5.936738e+06</td>\n",
              "      <td>942.582566</td>\n",
              "    </tr>\n",
              "  </tbody>\n",
              "</table>\n",
              "</div>"
            ],
            "text/plain": [
              "                                              Address  ...  Distance from Downtown\n",
              "0                9923 103 St NW, Edmonton, AB T5K 2J3  ...              933.012702\n",
              "1   The Executive, 10105 109 St NW, Edmonton, AB T...  ...              901.387819\n",
              "2    105 Street & Jasper Avenue, Edmonton, AB T5J 3N1  ...              559.016994\n",
              "3              10043 Jasper Ave, Edmonton, AB T5J 1S6  ...              559.016994\n",
              "4               9751 Jasper Ave, Edmonton, AB T5J 0C5  ...              901.387819\n",
              "5       107 Street & 103 Avenue, Edmonton, AB T5J 1K3  ...              504.467341\n",
              "6               10340 103 St NW, Edmonton, AB T5J 0Y9  ...               66.987298\n",
              "7                    10248 99 St NW, Edmonton, AB T5J  ...              504.467341\n",
              "8               10568 109 St NW, Edmonton, AB T5H 3B2  ...              834.550535\n",
              "9               10572 105 St NW, Edmonton, AB T5H 2W7  ...              443.254550\n",
              "10              10574 101 St NW, Edmonton, AB T5H 2R8  ...              443.254550\n",
              "11                9618 105A Ave, Edmonton, AB T5H 0M4  ...              834.550535\n",
              "12              10808 107 St NW, Edmonton, AB T5H 2Z3  ...              942.582566\n",
              "13              10750 103 St NW, Edmonton, AB T5H 2V8  ...              799.038106\n",
              "14           97 Street & 108 Avenue, Edmonton, AB T5H  ...              942.582566\n",
              "\n",
              "[15 rows x 6 columns]"
            ]
          },
          "metadata": {
            "tags": []
          },
          "execution_count": 11
        }
      ]
    },
    {
      "cell_type": "markdown",
      "metadata": {
        "id": "WBnn6cVm2WcJ",
        "colab_type": "text"
      },
      "source": [
        "### Foursquare Request\n",
        "In this step, we will use Foursquare API to get information about restaurants in each neighborhood.\n",
        "\n",
        "Refer to [Foursaqure website](https://developer.foursquare.com/docs/resources/categories) for a full list of category IDs."
      ]
    },
    {
      "cell_type": "code",
      "metadata": {
        "id": "HXKqD7Oz2V7o",
        "colab_type": "code",
        "colab": {}
      },
      "source": [
        "root_category = '4d4b7105d754a06374d81259' # Food category\n",
        "\n",
        "chinese_restaurant_categories = ['52af3a5e3cf9994f4e043bea', '52af3a723cf9994f4e043bec',\n",
        "                                 '52af3a7c3cf9994f4e043bed', '58daa1558bbb0b01f18ec1d3',\n",
        "                                 '52af3a673cf9994f4e043beb', '52af3a903cf9994f4e043bee',\n",
        "                                 '4bf58dd8d48988d1f5931735', '52af3a9f3cf9994f4e043bef',\n",
        "                                 '52af3aaa3cf9994f4e043bf0', '52af3ab53cf9994f4e043bf1',\n",
        "                                 '52af3abe3cf9994f4e043bf2', '52af3ac83cf9994f4e043bf3',\n",
        "                                 '52af3ad23cf9994f4e043bf4', '52af3add3cf9994f4e043bf5',\n",
        "                                 '52af3af23cf9994f4e043bf7', '52af3ae63cf9994f4e043bf6',\n",
        "                                 '52af3afc3cf9994f4e043bf8', '52af3b053cf9994f4e043bf9',\n",
        "                                 '52af3b213cf9994f4e043bfa', '52af3b293cf9994f4e043bfb',\n",
        "                                 '52af3b343cf9994f4e043bfc', '52af3b3b3cf9994f4e043bfd',\n",
        "                                 '52af3b463cf9994f4e043bfe', '52af3b633cf9994f4e043c01',\n",
        "                                 '52af3b513cf9994f4e043bff', '52af3b593cf9994f4e043c00',\n",
        "                                 '52af3b6e3cf9994f4e043c02', '52af3b773cf9994f4e043c03',\n",
        "                                 '52af3b813cf9994f4e043c04', '52af3b893cf9994f4e043c05',\n",
        "                                 '52af3b913cf9994f4e043c06', '52af3b9a3cf9994f4e043c07',\n",
        "                                 '52af3ba23cf9994f4e043c08', '4bf58dd8d48988d145941735']"
      ],
      "execution_count": 0,
      "outputs": []
    },
    {
      "cell_type": "markdown",
      "metadata": {
        "id": "4U2Da8kSAKUI",
        "colab_type": "text"
      },
      "source": [
        "Next, define functions to categorize and scrape information."
      ]
    },
    {
      "cell_type": "code",
      "metadata": {
        "id": "ea5yCj6k2P2-",
        "colab_type": "code",
        "colab": {}
      },
      "source": [
        "def is_restaurant(categories, specific_filter=None):\n",
        "    restaurant_words = ['restaurant']\n",
        "    restaurant = False\n",
        "    specific = False\n",
        "    for c in categories:\n",
        "        category_name = c[0].lower()\n",
        "        category_id = c[1]\n",
        "        for r in restaurant_words:\n",
        "            if r in category_name:\n",
        "                restaurant = True\n",
        "        if 'fast food' in category_name:\n",
        "            restaurant = False\n",
        "        if not(specific_filter is None) and (category_id in specific_filter):\n",
        "            specific = True\n",
        "            restaurant = True\n",
        "    return restaurant, specific\n",
        "\n",
        "def get_categories(categories):\n",
        "    return [(cat['name'], cat['id']) for cat in categories]\n",
        "\n",
        "def format_address(location):\n",
        "    address = ', '.join(location['formattedAddress'])\n",
        "    address = address.replace(', Alberta', '')\n",
        "    address = address.replace(', Canada', '')\n",
        "    return address\n",
        "\n",
        "def get_venues_near_location(lat, lon, category, client_id, client_secret, radius=500, limit=100):\n",
        "    version = '20181020'\n",
        "    url = 'https://api.foursquare.com/v2/venues/explore?client_id={}&client_secret={}&v={}&ll={},{}&categoryId={}&radius={}&limit={}'.format(\n",
        "        client_id, client_secret, version, lat, lon, category, radius, limit)\n",
        "    try:\n",
        "        results = requests.get(url).json()['response']['groups'][0]['items']\n",
        "        venues = [(item['venue']['id'],\n",
        "                   item['venue']['name'],\n",
        "                   get_categories(item['venue']['categories']),\n",
        "                   (item['venue']['location']['lat'], item['venue']['location']['lng']),\n",
        "                   format_address(item['venue']['location']),\n",
        "                   item['venue']['location']['distance']) for item in results]        \n",
        "    except:\n",
        "        venues = []\n",
        "    return venues"
      ],
      "execution_count": 0,
      "outputs": []
    },
    {
      "cell_type": "code",
      "metadata": {
        "id": "XtOktEY-2Ut5",
        "colab_type": "code",
        "outputId": "5a028fba-5fef-417a-d8a0-f3e9d2aff5e0",
        "colab": {
          "base_uri": "https://localhost:8080/",
          "height": 50
        }
      },
      "source": [
        " def get_restaurants(lats, lons):\n",
        "    restaurants = {}\n",
        "    chinese_restaurants = {}\n",
        "    location_restaurants = []\n",
        "\n",
        "    print('Obtaining venues around candidate locations...')\n",
        "    for lat, lon in zip(lats, lons):\n",
        "        # Using radius=300 to meke sure we have overlaps/full coverage so we don't miss any restaurant (we're using dictionaries to remove any duplicates resulting from area overlaps)\n",
        "        venues = get_venues_near_location(lat, lon, root_category, fs_client_id, fs_client_secret, radius=350, limit=100)\n",
        "        area_restaurants = []\n",
        "        for venue in venues:\n",
        "            venue_id = venue[0]\n",
        "            venue_name = venue[1]\n",
        "            venue_categories = venue[2]\n",
        "            venue_latlon = venue[3]\n",
        "            venue_address = venue[4]\n",
        "            venue_distance = venue[5]\n",
        "            is_res, is_chinese = is_restaurant(venue_categories, specific_filter=chinese_restaurant_categories)\n",
        "            if is_res:\n",
        "                x, y = lonlat_to_utm(venue_latlon[1], venue_latlon[0])\n",
        "                restaurant = (venue_id, venue_name, venue_latlon[0], venue_latlon[1], venue_address, venue_distance, is_chinese, x, y)\n",
        "                if venue_distance<=250:\n",
        "                    area_restaurants.append(restaurant)\n",
        "                restaurants[venue_id] = restaurant\n",
        "                if is_chinese:\n",
        "                    chinese_restaurants[venue_id] = restaurant\n",
        "        location_restaurants.append(area_restaurants)\n",
        "    print('Done!')\n",
        "    return restaurants, chinese_restaurants, location_restaurants\n",
        "\n",
        "\n",
        "restaurants = {}\n",
        "chinese_restaurants = {}\n",
        "location_restaurants = []\n",
        "loaded = False\n",
        "try:\n",
        "    with open('restaurants_300.pkl', 'rb') as f:\n",
        "        restaurants = pickle.load(f)\n",
        "    with open('chinese_restaurants_300.pkl', 'rb') as f:\n",
        "        chinese_restaurants = pickle.load(f)\n",
        "    with open('location_restaurants_300.pkl', 'rb') as f:\n",
        "        location_restaurants = pickle.load(f)\n",
        "    print('Restaurant data loaded.')\n",
        "    loaded = True\n",
        "except:\n",
        "    pass\n",
        "\n",
        "if not loaded:\n",
        "    restaurants, chinese_restaurants, location_restaurants = get_restaurants(latitudes, longitudes)\n",
        "    # Let's persists this in local file system\n",
        "    with open('restaurants_300.pkl', 'wb') as f:\n",
        "        pickle.dump(restaurants, f)\n",
        "    with open('chinese_restaurants_300.pkl', 'wb') as f:\n",
        "        pickle.dump(chinese_restaurants, f)\n",
        "    with open('location_restaurants_300.pkl', 'wb') as f:\n",
        "        pickle.dump(location_restaurants, f)\n",
        "        "
      ],
      "execution_count": 14,
      "outputs": [
        {
          "output_type": "stream",
          "text": [
            "Obtaining venues around candidate locations...\n",
            "Done!\n"
          ],
          "name": "stdout"
        }
      ]
    },
    {
      "cell_type": "code",
      "metadata": {
        "id": "S0GaIIH2sTZL",
        "colab_type": "code",
        "outputId": "0bdae7a0-6fda-461a-9234-f1b31cb2e4d2",
        "colab": {
          "base_uri": "https://localhost:8080/",
          "height": 1000
        }
      },
      "source": [
        "restaurants"
      ],
      "execution_count": 15,
      "outputs": [
        {
          "output_type": "execute_result",
          "data": {
            "text/plain": [
              "{'4b0586f5f964a5200b7822e3': ('4b0586f5f964a5200b7822e3',\n",
              "  'Hardware Grill',\n",
              "  53.54241267633521,\n",
              "  -113.48561741048763,\n",
              "  '9698 Jasper Avenue, Edmonton AB T5H 3V5',\n",
              "  48,\n",
              "  False,\n",
              "  335302.50106957206,\n",
              "  5935486.328482499),\n",
              " '4b0586f5f964a520137822e3': ('4b0586f5f964a520137822e3',\n",
              "  'Hoa An Restaurant',\n",
              "  53.55182864803684,\n",
              "  -113.48905412826757,\n",
              "  '9653 107 Ave. Northwest, Edmonton AB T5H 0T8',\n",
              "  205,\n",
              "  True,\n",
              "  335111.4423685989,\n",
              "  5936541.538788642),\n",
              " '4b0586f5f964a5201a7822e3': ('4b0586f5f964a5201a7822e3',\n",
              "  'Mikado',\n",
              "  53.54573419816865,\n",
              "  -113.5090962806086,\n",
              "  '10305 109 Street (across from MacEwan University), Edmonton AB T5J 4X9',\n",
              "  290,\n",
              "  False,\n",
              "  333760.09740411496,\n",
              "  5935910.31342741),\n",
              " '4b0586f6f964a5201b7822e3': ('4b0586f6f964a5201b7822e3',\n",
              "  'Khazana Restaurant',\n",
              "  53.542735468061984,\n",
              "  -113.50425082076549,\n",
              "  '10177 107 Street, Edmonton AB T5J 1J5',\n",
              "  306,\n",
              "  False,\n",
              "  334069.34044477774,\n",
              "  5935565.490205238),\n",
              " '4b0586f6f964a5201d7822e3': ('4b0586f6f964a5201d7822e3',\n",
              "  'Haweli',\n",
              "  53.54340612052297,\n",
              "  -113.49745935843717,\n",
              "  '10220 103 St. NW, Edmonton AB T5J 0Y8',\n",
              "  248,\n",
              "  False,\n",
              "  334521.87295633386,\n",
              "  5935624.275889291),\n",
              " '4b0586f6f964a5202b7822e3': ('4b0586f6f964a5202b7822e3',\n",
              "  'Blue Plate Diner',\n",
              "  53.542088,\n",
              "  -113.498821,\n",
              "  '10145 104 St NW (Jasper Ave), Edmonton AB T5J 0Z9',\n",
              "  134,\n",
              "  False,\n",
              "  334426.52355295204,\n",
              "  5935480.838655958),\n",
              " '4b062f70f964a5208de922e3': ('4b062f70f964a5208de922e3',\n",
              "  'All Happy Family Restaurant',\n",
              "  53.549664,\n",
              "  -113.492378,\n",
              "  '10011 106 Ave NW, Edmonton AB T5H 0N8',\n",
              "  84,\n",
              "  True,\n",
              "  334882.86217534874,\n",
              "  5936308.487179728),\n",
              " '4b06e394f964a52042f222e3': ('4b06e394f964a52042f222e3',\n",
              "  'The Lingnan',\n",
              "  53.54954173860989,\n",
              "  -113.4996271679795,\n",
              "  '10582 104 St. NW (106 Ave. NW), Edmonton AB T5H 2W1',\n",
              "  103,\n",
              "  True,\n",
              "  334402.2251457613,\n",
              "  5936311.725210998),\n",
              " '4b06f308f964a520edf322e3': ('4b06f308f964a520edf322e3',\n",
              "  'I Love Sushi',\n",
              "  53.54148640716539,\n",
              "  -113.50091585378533,\n",
              "  '10108-105 Street, Edmonton AB',\n",
              "  23,\n",
              "  False,\n",
              "  334285.39259893575,\n",
              "  5935418.802199301),\n",
              " '4b071931f964a52034f722e3': ('4b071931f964a52034f722e3',\n",
              "  'Mucho Burrito Fresh Mexican Grill',\n",
              "  53.541132,\n",
              "  -113.509228,\n",
              "  '10124 109 St NW, (Jasper Ave NW), Edmonton AB T5J 1M7',\n",
              "  76,\n",
              "  False,\n",
              "  333733.3306468817,\n",
              "  5935398.7615195215),\n",
              " '4b078a18f964a52090fe22e3': ('4b078a18f964a52090fe22e3',\n",
              "  'Kyoto Japanese Cuisine',\n",
              "  53.54116949229921,\n",
              "  -113.50940302018427,\n",
              "  '10128 109 St NW, Edmonton AB T5J 1M7',\n",
              "  84,\n",
              "  False,\n",
              "  333721.882603335,\n",
              "  5935403.340123962),\n",
              " '4b089953f964a520300f23e3': ('4b089953f964a520300f23e3',\n",
              "  'Pho Hoa Noodle House',\n",
              "  53.55006943771279,\n",
              "  -113.4896702053203,\n",
              "  '9723 106 Avenue, Edmonton AB',\n",
              "  238,\n",
              "  False,\n",
              "  335063.7943424607,\n",
              "  5936347.304208741),\n",
              " '4b0af119f964a520682a23e3': ('4b0af119f964a520682a23e3',\n",
              "  'Zen Sushi',\n",
              "  53.548237352030384,\n",
              "  -113.49374101651215,\n",
              "  '10518 101 street, Edmonton AB',\n",
              "  152,\n",
              "  False,\n",
              "  334787.02212589036,\n",
              "  5936152.975647741),\n",
              " '4b0c2c06f964a5204c3823e3': ('4b0c2c06f964a5204c3823e3',\n",
              "  'Sapporo Sushi',\n",
              "  53.55516686623863,\n",
              "  -113.49298806965258,\n",
              "  '10923 101 St NW, Edmonton AB',\n",
              "  260,\n",
              "  False,\n",
              "  334863.88815936045,\n",
              "  5936921.937482297),\n",
              " '4b0d7213f964a5207e4823e3': ('4b0d7213f964a5207e4823e3',\n",
              "  'Chicken for Lunch',\n",
              "  53.5416196652816,\n",
              "  -113.49322176707038,\n",
              "  '10060 Jasper Ave (Scotia Place Food Court), Edmonton AB T5J 3R8',\n",
              "  22,\n",
              "  True,\n",
              "  334795.63929736556,\n",
              "  5935415.7447195),\n",
              " '4b0d726ff964a520884823e3': ('4b0d726ff964a520884823e3',\n",
              "  'New Tan Tan Restaurant',\n",
              "  53.5428996062331,\n",
              "  -113.48581530685958,\n",
              "  '10133 - 97 St (101A Ave), Edmonton AB T5J 0L2',\n",
              "  102,\n",
              "  True,\n",
              "  335291.281831532,\n",
              "  5935540.9431688115),\n",
              " '4b103bf5f964a520df6b23e3': ('4b103bf5f964a520df6b23e3',\n",
              "  'Canada Place - Food Court',\n",
              "  53.54252927856303,\n",
              "  -113.48649622164,\n",
              "  '9700 Jasper Ave, Edmonton AB',\n",
              "  82,\n",
              "  False,\n",
              "  335244.73454845895,\n",
              "  5935501.330164237),\n",
              " '4b10957df964a520467323e3': ('4b10957df964a520467323e3',\n",
              "  'King Noodle House Pho Hoang Vietamese Noodle Soup Restaurant',\n",
              "  53.5506916260334,\n",
              "  -113.48884831377252,\n",
              "  '10615 97 St, Edmonton AB',\n",
              "  330,\n",
              "  False,\n",
              "  335120.6525973383,\n",
              "  5936414.601117262),\n",
              " '4b10f1a7f964a520e57623e3': ('4b10f1a7f964a520e57623e3',\n",
              "  'Garden Bakery & Restaurant',\n",
              "  53.54971081879503,\n",
              "  -113.49292994764781,\n",
              "  '10019 106 Ave NW (at 101st St.), Edmonton AB T5H 0N8',\n",
              "  48,\n",
              "  True,\n",
              "  334846.48542444047,\n",
              "  5936314.974587323),\n",
              " '4b11abacf964a520e38123e3': ('4b11abacf964a520e38123e3',\n",
              "  'Pagolac',\n",
              "  53.55012771754941,\n",
              "  -113.4889070700845,\n",
              "  '10566 97 St NW, Edmonton AB T5H 2L2',\n",
              "  189,\n",
              "  False,\n",
              "  335114.5679787617,\n",
              "  5936352.018575779),\n",
              " '4b15f4fef964a52006b623e3': ('4b15f4fef964a52006b623e3',\n",
              "  'Wildflower Grill',\n",
              "  53.539357324801216,\n",
              "  -113.50462953204085,\n",
              "  '10009 107 St, Edmonton AB T5J 1J1',\n",
              "  339,\n",
              "  False,\n",
              "  334031.03372296423,\n",
              "  5935190.653256652),\n",
              " '4b16c2d9f964a5201abd23e3': ('4b16c2d9f964a5201abd23e3',\n",
              "  'Pazzo Pazzo Italian Cuisine',\n",
              "  53.545531845491084,\n",
              "  -113.49190318419203,\n",
              "  '10016 103 Avenue NW, Edmonton AB T5J 0H1',\n",
              "  152,\n",
              "  False,\n",
              "  334898.22469458706,\n",
              "  5935847.803199569),\n",
              " '4b196998f964a520e1dc23e3': ('4b196998f964a520e1dc23e3',\n",
              "  'Good Buddy Vietnamese Express',\n",
              "  53.54383507091922,\n",
              "  -113.4929329200735,\n",
              "  'Edmonton City Centre, Edmonton AB',\n",
              "  307,\n",
              "  False,\n",
              "  334823.40337818826,\n",
              "  5935661.474327242),\n",
              " '4b21037ff964a520053624e3': ('4b21037ff964a520053624e3',\n",
              "  'Daily Planet',\n",
              "  53.545105819790486,\n",
              "  -113.49392547012002,\n",
              "  'Bell Tower (2nd Floor), Edmonton AB',\n",
              "  293,\n",
              "  False,\n",
              "  334762.60245108255,\n",
              "  5935805.111286659),\n",
              " '4b2198dbf964a5209e3e24e3': ('4b2198dbf964a5209e3e24e3',\n",
              "  'Old Spaghetti Factory',\n",
              "  53.54355467775372,\n",
              "  -113.49754943416583,\n",
              "  '10220 103rd Street (btwn 102 Ave & 103 Ave), Edmonton AB T5J 0Y8',\n",
              "  232,\n",
              "  False,\n",
              "  334516.48543137615,\n",
              "  5935641.007903013),\n",
              " '4b2304b3f964a520355224e3': ('4b2304b3f964a520355224e3',\n",
              "  \"King's Noodle & Hot Pot\",\n",
              "  53.55567859784539,\n",
              "  -113.49352521188729,\n",
              "  '10939 101 Street, Edmonton AB',\n",
              "  326,\n",
              "  True,\n",
              "  334830.30815245956,\n",
              "  5936980.098951656),\n",
              " '4b242e4cf964a5201e6324e3': ('4b242e4cf964a5201e6324e3',\n",
              "  'Japanese Village',\n",
              "  53.541887906212565,\n",
              "  -113.49046603217688,\n",
              "  '10126 100 Street (Jasper Ave.), Edmonton AB T5J 0N8',\n",
              "  318,\n",
              "  False,\n",
              "  334979.2480259433,\n",
              "  5935439.188743218),\n",
              " '4b2bce8af964a5205bbb24e3': ('4b2bce8af964a5205bbb24e3',\n",
              "  'allegro italian kitchen',\n",
              "  53.53895333608731,\n",
              "  -113.50787079822575,\n",
              "  '10011 109 Street, Edmonton AB T5J 3S8',\n",
              "  285,\n",
              "  False,\n",
              "  333814.7090929786,\n",
              "  5935153.280928604),\n",
              " '4b3dc122f964a520a99625e3': ('4b3dc122f964a520a99625e3',\n",
              "  'Sabor Divino',\n",
              "  53.543151995499194,\n",
              "  -113.49752832442137,\n",
              "  '10220 103 St NW (at 102 Ave), Edmonton AB T5J 4A1',\n",
              "  277,\n",
              "  False,\n",
              "  334516.3126575957,\n",
              "  5935596.172145336),\n",
              " '4b4b6fcaf964a5209c9b26e3': ('4b4b6fcaf964a5209c9b26e3',\n",
              "  \"Marcello's\",\n",
              "  53.5403073915002,\n",
              "  -113.4910225868225,\n",
              "  '10025 Jasper Ave. (63 Telus Plaza), Edmonton AB T5J 2B8',\n",
              "  221,\n",
              "  False,\n",
              "  334936.226288356,\n",
              "  5935264.692186809),\n",
              " '4b4f73daf964a520440727e3': ('4b4f73daf964a520440727e3',\n",
              "  'Café Select',\n",
              "  53.53940740532972,\n",
              "  -113.50306010369216,\n",
              "  'Edmonton AB',\n",
              "  295,\n",
              "  False,\n",
              "  334135.20810686005,\n",
              "  5935192.566416871),\n",
              " '4b51138ff964a5201a4127e3': ('4b51138ff964a5201a4127e3',\n",
              "  \"Sorrentino's Bistro-Bar\",\n",
              "  53.542660954764386,\n",
              "  -113.4906801306366,\n",
              "  '10162 100 Street NW, Edmonton AB',\n",
              "  341,\n",
              "  False,\n",
              "  334968.07228229893,\n",
              "  5935525.66424435),\n",
              " '4b5a5a79f964a52070bf28e3': ('4b5a5a79f964a52070bf28e3',\n",
              "  \"Madison's Grill\",\n",
              "  53.540986,\n",
              "  -113.492287,\n",
              "  '10053 Jasper Ave NW, Edmonton AB T5J 1S5',\n",
              "  110,\n",
              "  False,\n",
              "  334855.0995852314,\n",
              "  5935343.099471639),\n",
              " '4b5a6986f964a52081c328e3': ('4b5a6986f964a52081c328e3',\n",
              "  'Asian Grill House',\n",
              "  53.55205418238452,\n",
              "  -113.48845261560217,\n",
              "  '9643 107 Ave, Edmonton AB',\n",
              "  200,\n",
              "  False,\n",
              "  335152.1593951846,\n",
              "  5936565.23010033),\n",
              " '4b675a53f964a520cf492be3': ('4b675a53f964a520cf492be3',\n",
              "  'LaRonde Restaurant - Chateau Lacombe',\n",
              "  53.53926154306514,\n",
              "  -113.49404976360684,\n",
              "  '10111 Bellamy Hill Rd. (at MacDonald Dr. NW), Edmonton AB T5J 1N7',\n",
              "  290,\n",
              "  False,\n",
              "  334731.5973645472,\n",
              "  5935155.3934075665),\n",
              " '4b679a04f964a52026572be3': ('4b679a04f964a52026572be3',\n",
              "  'Boualouang',\n",
              "  53.54993050938026,\n",
              "  -113.48858546740527,\n",
              "  '10569 97street, Edmonton AB',\n",
              "  165,\n",
              "  False,\n",
              "  335135.1028286605,\n",
              "  5936329.340094994),\n",
              " '4b69c930f964a52019b42be3': ('4b69c930f964a52019b42be3',\n",
              "  'Pho Tau Bay',\n",
              "  53.5513136800074,\n",
              "  -113.49087593102365,\n",
              "  '10660 98 Street NW (98 St and 106 Ave), Edmonton AB T5H 2N7',\n",
              "  256,\n",
              "  False,\n",
              "  334988.7743335782,\n",
              "  5936488.48417748),\n",
              " '4b6cb50ef964a520e04d2ce3': ('4b6cb50ef964a520e04d2ce3',\n",
              "  \"Rigoletto's\",\n",
              "  53.539053967983804,\n",
              "  -113.49765235103246,\n",
              "  '10305 100ave, Edmonton AB',\n",
              "  146,\n",
              "  False,\n",
              "  334492.10604495555,\n",
              "  5935140.674094922),\n",
              " '4b6ef5bff964a52056d32ce3': ('4b6ef5bff964a52056d32ce3',\n",
              "  'Zinc',\n",
              "  53.54471163644316,\n",
              "  -113.48919680401121,\n",
              "  '2 Sir Winston Churchill Square (At the Art Galllery of Alberta), Edmonton AB T5J 2C1',\n",
              "  123,\n",
              "  False,\n",
              "  335074.3138264257,\n",
              "  5935750.306533311),\n",
              " '4b8c5bd6f964a5209acc32e3': ('4b8c5bd6f964a5209acc32e3',\n",
              "  'Taipan Cafe',\n",
              "  53.5509324688336,\n",
              "  -113.48896122550417,\n",
              "  '10627 97 Street, Division No. 11 AB T5H 2L5',\n",
              "  303,\n",
              "  True,\n",
              "  335114.1104891541,\n",
              "  5936441.649443845),\n",
              " '4b8dad60f964a520070833e3': ('4b8dad60f964a520070833e3',\n",
              "  'Tzin',\n",
              "  53.54133741557251,\n",
              "  -113.49914935447478,\n",
              "  '10115 104 St., Edmonton AB T5J 0Z9',\n",
              "  110,\n",
              "  False,\n",
              "  334401.8401093201,\n",
              "  5935398.121573584),\n",
              " '4b9ab000f964a52013cd35e3': ('4b9ab000f964a52013cd35e3',\n",
              "  'Backstreet Bistro',\n",
              "  53.54056775859984,\n",
              "  -113.50215354693205,\n",
              "  '101, 10055 106 St. (HSBC Building), Edmonton AB T5J 2Y2',\n",
              "  154,\n",
              "  False,\n",
              "  334199.8054354765,\n",
              "  5935319.510532245),\n",
              " '4baaaf36f964a520aa7f3ae3': ('4baaaf36f964a520aa7f3ae3',\n",
              "  'Sai Woo',\n",
              "  53.54998714604011,\n",
              "  -113.48861337722107,\n",
              "  '10571-97 street, Edmonton AB',\n",
              "  167,\n",
              "  True,\n",
              "  335133.47440661886,\n",
              "  5936335.703923013),\n",
              " '4bacffe7f964a520ee223be3': ('4bacffe7f964a520ee223be3',\n",
              "  'Thanh Thanh Oriental Noodle House',\n",
              "  53.55179504140814,\n",
              "  -113.49380463610906,\n",
              "  '10718 101 St. NW (btwn 107 Ave NW & 108 Ave NW), Edmonton AB',\n",
              "  314,\n",
              "  False,\n",
              "  334796.670147192,\n",
              "  5936548.813505347),\n",
              " '4bb4e8ed62fca593401af17e': ('4bb4e8ed62fca593401af17e',\n",
              "  'The Golden Bird',\n",
              "  53.549637,\n",
              "  -113.48869979381561,\n",
              "  '10542 97 St (btw 105A Ave & 106 Ave), Edmonton AB T5H 2L2',\n",
              "  172,\n",
              "  False,\n",
              "  335126.3890045679,\n",
              "  5936296.960350729),\n",
              " '4bc6753cd35d9c7451dae23a': ('4bc6753cd35d9c7451dae23a',\n",
              "  \"Doan's Downtown\",\n",
              "  53.54160425504446,\n",
              "  -113.50512550879697,\n",
              "  '10130 107 St (Jasper Ave & 107 St,), Edmonton AB T5J 1J4',\n",
              "  291,\n",
              "  False,\n",
              "  334006.9676004845,\n",
              "  5935441.714541658),\n",
              " '4bcdf2a0fb84c9b6ece5223e': ('4bcdf2a0fb84c9b6ece5223e',\n",
              "  'Sushi-Ya',\n",
              "  53.543370268182315,\n",
              "  -113.4925635273209,\n",
              "  'Canada',\n",
              "  331,\n",
              "  False,\n",
              "  334846.0640525974,\n",
              "  5935608.921630483),\n",
              " '4bcfb271462cb7131850d707': ('4bcfb271462cb7131850d707',\n",
              "  'Sabor Divino',\n",
              "  53.543062560024055,\n",
              "  -113.49751045265066,\n",
              "  '10220 103 St, Edmonton AB',\n",
              "  287,\n",
              "  False,\n",
              "  334517.1476414929,\n",
              "  5935586.1835133685),\n",
              " '4c09c6017e3fc92862a6f282': ('4c09c6017e3fc92862a6f282',\n",
              "  'The Sultan Palace',\n",
              "  53.54257949684667,\n",
              "  -113.50822219051177,\n",
              "  '10171 109 St, Edmonton AB',\n",
              "  119,\n",
              "  False,\n",
              "  333805.6372005537,\n",
              "  5935557.404950494),\n",
              " '4c1d66f6b4e62d7fe7c1dc93': ('4c1d66f6b4e62d7fe7c1dc93',\n",
              "  'Padmanadi',\n",
              "  53.55242187374459,\n",
              "  -113.493911362633,\n",
              "  '10702-10776 101 St. NW (at 107 Ave.), Edmonton AB T5H 2S3',\n",
              "  282,\n",
              "  False,\n",
              "  334792.0438549175,\n",
              "  5936618.778175916),\n",
              " '4c2a4f63d1a10f476b3ef664': ('4c2a4f63d1a10f476b3ef664',\n",
              "  'Thai Express',\n",
              "  53.543602,\n",
              "  -113.494866,\n",
              "  '10025 102A Ave,Edmonton City Centre (101 St), Edmonton AB T5J 4H5',\n",
              "  273,\n",
              "  False,\n",
              "  334694.436800445,\n",
              "  5935640.037982693),\n",
              " '4c390ee30a71c9b604e741c9': ('4c390ee30a71c9b604e741c9',\n",
              "  'Wok Box',\n",
              "  53.54092188103267,\n",
              "  -113.49492447788208,\n",
              "  '10119 Jasper Ave (101st St.), Edmonton AB',\n",
              "  152,\n",
              "  True,\n",
              "  334680.11647926795,\n",
              "  5935342.088275741),\n",
              " '4c44944cf799e21e6c05aea2': ('4c44944cf799e21e6c05aea2',\n",
              "  'Japanese Village',\n",
              "  53.544000780894024,\n",
              "  -113.49945961937706,\n",
              "  '10238 104 street, Edmonton AB',\n",
              "  236,\n",
              "  False,\n",
              "  334391.68525611237,\n",
              "  5935695.065004857),\n",
              " '4c76d946a5676dcbb8ce1621': ('4c76d946a5676dcbb8ce1621',\n",
              "  'V Sandwiches',\n",
              "  53.541572169307194,\n",
              "  -113.4923924940416,\n",
              "  '10135 100A St, Edmonton AB T5J 0R5',\n",
              "  59,\n",
              "  False,\n",
              "  334850.3929752485,\n",
              "  5935408.538497957),\n",
              " '4cc1e65106c25481fa408647': ('4cc1e65106c25481fa408647',\n",
              "  'Oodle Noodle',\n",
              "  53.541109,\n",
              "  -113.507655,\n",
              "  '10842 Jasper Ave. NW (at 109 St.), Edmonton AB T5J 2B2',\n",
              "  60,\n",
              "  False,\n",
              "  333837.4512552793,\n",
              "  5935392.531625592),\n",
              " '4cdf4c69db125481666a36ce': ('4cdf4c69db125481666a36ce',\n",
              "  'Sofra',\n",
              "  53.54560758762166,\n",
              "  -113.50261956866164,\n",
              "  '10345 106 St NW, Edmonton AB T5J 0J2',\n",
              "  139,\n",
              "  False,\n",
              "  334188.63596680266,\n",
              "  5935881.129577085),\n",
              " '4cf5bd6471538cfaa04ab12e': ('4cf5bd6471538cfaa04ab12e',\n",
              "  'Ruby Dragon',\n",
              "  53.5410054894715,\n",
              "  -113.50864416807072,\n",
              "  '#100, 10909 Jasper Avenue, Edmonton AB T5J 3L9',\n",
              "  61,\n",
              "  False,\n",
              "  333771.51349804504,\n",
              "  5935383.3278447585),\n",
              " '4d0285887d9ba35d212d5a23': ('4d0285887d9ba35d212d5a23',\n",
              "  'Xu Hue',\n",
              "  53.549649024594274,\n",
              "  -113.48858729162795,\n",
              "  '10548 - 97st, Edmonton AB',\n",
              "  164,\n",
              "  False,\n",
              "  335133.88752720517,\n",
              "  5936298.037227687),\n",
              " '4d07c90d26adb1f73c93e370': ('4d07c90d26adb1f73c93e370',\n",
              "  'Emperors Palace',\n",
              "  53.550859169728426,\n",
              "  -113.49267544760471,\n",
              "  '10638-100 st, Edmonton AB',\n",
              "  346,\n",
              "  True,\n",
              "  334867.8150092461,\n",
              "  5936442.1051992625),\n",
              " '4d13edf7bb488cfad65d92d4': ('4d13edf7bb488cfad65d92d4',\n",
              "  'Corso 32',\n",
              "  53.54094890526599,\n",
              "  -113.49875156315315,\n",
              "  '10345 Jasper Ave., Edmonton AB T5J 1Y5',\n",
              "  153,\n",
              "  False,\n",
              "  334426.6769639155,\n",
              "  5935353.986080911),\n",
              " '4d40c85a46775481711e5bf4': ('4d40c85a46775481711e5bf4',\n",
              "  'Bistro Praha',\n",
              "  53.541129653783955,\n",
              "  -113.4938772854905,\n",
              "  '10117 - 101 Street, Edmonton AB T5J 0T4',\n",
              "  89,\n",
              "  False,\n",
              "  334750.30266981304,\n",
              "  5935362.766215829),\n",
              " '4d9cb1917865a0938d0fd77a': ('4d9cb1917865a0938d0fd77a',\n",
              "  'Souvlaki Express',\n",
              "  53.543784,\n",
              "  -113.492984,\n",
              "  'Edmonton AB',\n",
              "  314,\n",
              "  False,\n",
              "  334819.8206446046,\n",
              "  5935655.912660505),\n",
              " '4d9f5a0a83f0b1f709cf97c7': ('4d9f5a0a83f0b1f709cf97c7',\n",
              "  'Edo Japan (Commerce Place)',\n",
              "  53.542260871239286,\n",
              "  -113.49377141860786,\n",
              "  '10155 102 Street, Edmonton AB',\n",
              "  62,\n",
              "  False,\n",
              "  334761.7234529472,\n",
              "  5935488.335675553),\n",
              " '4dde8f42e4cd191273832b4b': ('4dde8f42e4cd191273832b4b',\n",
              "  'The Chopped Leaf',\n",
              "  53.54185009930062,\n",
              "  -113.49432871924027,\n",
              "  '10180 101 St NW, Edmonton AB T5J 1W4',\n",
              "  75,\n",
              "  False,\n",
              "  334723.202647354,\n",
              "  5935443.94262152),\n",
              " '4ded813fe4cd032b188d8e3f': ('4ded813fe4cd032b188d8e3f',\n",
              "  'Tres Carnales Taquería',\n",
              "  53.541508,\n",
              "  -113.491936,\n",
              "  '10119 100A Street, Edmonton AB T5J 0C8',\n",
              "  89,\n",
              "  False,\n",
              "  334880.3855328276,\n",
              "  5935400.342860961),\n",
              " '4df6695952b10928a7e55292': ('4df6695952b10928a7e55292',\n",
              "  'Taco Time',\n",
              "  53.543509,\n",
              "  -113.494616,\n",
              "  '1067 Eaton Ctr Mall, Edmonton AB',\n",
              "  209,\n",
              "  False,\n",
              "  334710.6358498202,\n",
              "  5935629.114064105),\n",
              " '4e1f9e657d8b71715b98a337': ('4e1f9e657d8b71715b98a337',\n",
              "  'Pho Huong and Mama Pizza',\n",
              "  53.551119,\n",
              "  -113.502024,\n",
              "  '10531 107, Edmonton AB',\n",
              "  316,\n",
              "  False,\n",
              "  334249.63298848615,\n",
              "  5936492.727060128),\n",
              " '4e34cd937d8b0c62b2ce6a41': ('4e34cd937d8b0c62b2ce6a41',\n",
              "  'Asian Express Hot Pot',\n",
              "  53.54964006341352,\n",
              "  -113.49201298903002,\n",
              "  '10586 100st, Edmonton AB',\n",
              "  108,\n",
              "  False,\n",
              "  334906.94604792283,\n",
              "  5936304.978487107),\n",
              " '4e6fcee5814dd2cb95ff0649': ('4e6fcee5814dd2cb95ff0649',\n",
              "  'Chateau Beirut',\n",
              "  53.542874344764044,\n",
              "  -113.50450938156123,\n",
              "  '10185 107 St, Edmonton AB T5J 1J5',\n",
              "  290,\n",
              "  False,\n",
              "  334052.7549025067,\n",
              "  5935581.538741198),\n",
              " '4ee10dfab8f7413830dfa933': ('4ee10dfab8f7413830dfa933',\n",
              "  'Kallin Chinese Seafood Restaurant',\n",
              "  53.54883873135637,\n",
              "  -113.50865857269224,\n",
              "  '10548 - 109 Street, Edmonton AB',\n",
              "  49,\n",
              "  True,\n",
              "  333801.26035802613,\n",
              "  5936254.57997853),\n",
              " '4f3435b0e4b0230a3b2e8d30': ('4f3435b0e4b0230a3b2e8d30',\n",
              "  'Afghan Chopan Kebabhouse',\n",
              "  53.552682069481854,\n",
              "  -113.49390567436004,\n",
              "  '10735 101st, Edmonton AB',\n",
              "  270,\n",
              "  False,\n",
              "  334793.4344975952,\n",
              "  5936647.70424972),\n",
              " '4f442267d4f2bdcc71def573': ('4f442267d4f2bdcc71def573',\n",
              "  'The Harvest Room',\n",
              "  53.540378252316394,\n",
              "  -113.48962615718544,\n",
              "  '10065 100 St NW, Edmonton AB T5J 0N6',\n",
              "  317,\n",
              "  False,\n",
              "  335029.0170530742,\n",
              "  5935269.337279991),\n",
              " '4f612492e4b00c2a00013336': ('4f612492e4b00c2a00013336',\n",
              "  'Veggie Garden Restaurant',\n",
              "  53.54952957962648,\n",
              "  -113.4920165234432,\n",
              "  '10582 100 St NW, Edmonton AB T5H 2R6',\n",
              "  107,\n",
              "  False,\n",
              "  334906.2817650438,\n",
              "  5936292.698546792),\n",
              " '4f736c28bb3dcf63c7e241bc': ('4f736c28bb3dcf63c7e241bc',\n",
              "  'Pita Pit',\n",
              "  53.54126709000865,\n",
              "  -113.50213709551832,\n",
              "  '10544 Jasper Ave NW, Edmonton AB T5J 1Z7',\n",
              "  103,\n",
              "  False,\n",
              "  334203.62899892,\n",
              "  5935397.252414077),\n",
              " '4fd39675e4b00a1642fb41e3': ('4fd39675e4b00a1642fb41e3',\n",
              "  'Canyon Grill',\n",
              "  53.55431284865305,\n",
              "  -113.51012563946757,\n",
              "  'Rosslyn Shopping Centre, Edmonton AB',\n",
              "  347,\n",
              "  False,\n",
              "  333725.5547446244,\n",
              "  5936866.840947026),\n",
              " '501b12bee4b0224728cc694b': ('501b12bee4b0224728cc694b',\n",
              "  'Won Jung Gak',\n",
              "  53.55090151746593,\n",
              "  -113.4930518374746,\n",
              "  '9655 - 62 Ave NW (Argyll / Industrial), Edmonton AB T6E 0E2',\n",
              "  149,\n",
              "  False,\n",
              "  334843.0499008858,\n",
              "  5936447.688211256),\n",
              " '50313f43e4b0bf3e6af2e278': ('50313f43e4b0bf3e6af2e278',\n",
              "  'Panciteria de Manila',\n",
              "  53.544209,\n",
              "  -113.484945,\n",
              "  'Canada',\n",
              "  252,\n",
              "  False,\n",
              "  335354.0205838674,\n",
              "  5935684.562772364),\n",
              " '504b87d0e4b0ef19b0bc69f0': ('504b87d0e4b0ef19b0bc69f0',\n",
              "  \"Normand's Bistro\",\n",
              "  53.542918,\n",
              "  -113.488878,\n",
              "  '10177 99 Street NW, Edmonton AB T5J 5B3',\n",
              "  323,\n",
              "  False,\n",
              "  335088.4584838897,\n",
              "  5935550.077823134),\n",
              " '51760a44e4b042fa14c16d29': ('51760a44e4b042fa14c16d29',\n",
              "  'Café Amore Bistro',\n",
              "  53.549668423733166,\n",
              "  -113.50692386243111,\n",
              "  '10607 108 Street, Edmonton AB',\n",
              "  126,\n",
              "  False,\n",
              "  333919.413217866,\n",
              "  5936342.811110027),\n",
              " '51a68889498e781391a10d22': ('51a68889498e781391a10d22',\n",
              "  'Urban Shabu',\n",
              "  53.54939943599995,\n",
              "  -113.48826651040423,\n",
              "  '9700 - 105 Ave, Edmonton AB T5H 4J1',\n",
              "  148,\n",
              "  False,\n",
              "  335154.16467316006,\n",
              "  5936269.534923814),\n",
              " '522261fd11d24696e021e079': ('522261fd11d24696e021e079',\n",
              "  'Hoang Long',\n",
              "  53.540207991649176,\n",
              "  -113.50853487802456,\n",
              "  '10051 109th Street (South of Jasper Ave. (beside Caffe Sorrentino)), Edmonton AB T5J 1M1',\n",
              "  145,\n",
              "  False,\n",
              "  333775.62860988406,\n",
              "  5935294.374513807),\n",
              " '52956c03498e3e7e77086bf3': ('52956c03498e3e7e77086bf3',\n",
              "  'The Parlour',\n",
              "  53.54536467492016,\n",
              "  -113.50691628317007,\n",
              "  '10334 Capital Blvd, Edmonton AB T5J 1L9',\n",
              "  145,\n",
              "  False,\n",
              "  333903.05852480594,\n",
              "  5935864.12719459),\n",
              " '52bf6988498eb75687a37c8c': ('52bf6988498eb75687a37c8c',\n",
              "  '97 Hot Pot',\n",
              "  53.55030609466443,\n",
              "  -113.48896691548744,\n",
              "  '10602 97 Street, Edmonton AB',\n",
              "  198,\n",
              "  False,\n",
              "  335111.29774300347,\n",
              "  5936371.99649748),\n",
              " '531a181a498ec163295d9915': ('531a181a498ec163295d9915',\n",
              "  '3 amigos restaurant',\n",
              "  53.54088,\n",
              "  -113.496908,\n",
              "  'Canada',\n",
              "  267,\n",
              "  False,\n",
              "  334548.5444278917,\n",
              "  5935342.037195342),\n",
              " '53ebbad0498eb4d043950e01': ('53ebbad0498eb4d043950e01',\n",
              "  'Rostizado',\n",
              "  53.54597446599754,\n",
              "  -113.49898315840903,\n",
              "  '10359, 104 St, Edmonton AB',\n",
              "  124,\n",
              "  False,\n",
              "  334430.9542610394,\n",
              "  5935913.4720196575),\n",
              " '548ba4ff498e486d0cc75c5c': ('548ba4ff498e486d0cc75c5c',\n",
              "  'Lee House Korean Restaurant',\n",
              "  53.55171564270085,\n",
              "  -113.48965155740608,\n",
              "  '10704 - 97 Street NW, Edmonton AB',\n",
              "  208,\n",
              "  False,\n",
              "  335071.4331265616,\n",
              "  5936530.353980011),\n",
              " '54f390ac498e47a6710efaa7': ('54f390ac498e47a6710efaa7',\n",
              "  'Tao Garden Restaurant',\n",
              "  53.5522851090003,\n",
              "  -113.48837143387729,\n",
              "  '9642 - 107 Avenue NW, Edmonton AB',\n",
              "  183,\n",
              "  True,\n",
              "  335158.4341355552,\n",
              "  5936590.726093653),\n",
              " '5696f1ac498e9fbdef4311a3': ('5696f1ac498e9fbdef4311a3',\n",
              "  'Hoang Long',\n",
              "  53.54081,\n",
              "  -113.49284,\n",
              "  'Canada',\n",
              "  115,\n",
              "  False,\n",
              "  334817.7778518768,\n",
              "  5935324.807253876),\n",
              " '56c52c22cd109db1fc1618b8': ('56c52c22cd109db1fc1618b8',\n",
              "  'State & Main',\n",
              "  53.54088487094798,\n",
              "  -113.49353384790159,\n",
              "  'Canada',\n",
              "  107,\n",
              "  False,\n",
              "  334772.101818085,\n",
              "  5935334.744258191),\n",
              " '574f355a498ed8148f4aa8d9': ('574f355a498ed8148f4aa8d9',\n",
              "  'Uccellino',\n",
              "  53.540819,\n",
              "  -113.498693,\n",
              "  '10349 Jasper Ave NW, Edmonton AB T5J 1Y5',\n",
              "  164,\n",
              "  False,\n",
              "  334430.0496853784,\n",
              "  5935339.4017313775),\n",
              " '57cb6e5f498ea577c54c6085': ('57cb6e5f498ea577c54c6085',\n",
              "  'JOEY Bell Tower',\n",
              "  53.544913366206735,\n",
              "  -113.49374647698635,\n",
              "  '10310 101 Street, Edmonton AB T5J 4X1',\n",
              "  288,\n",
              "  False,\n",
              "  334773.70980619895,\n",
              "  5935783.291028478),\n",
              " '58840586092392628e3a739c': ('58840586092392628e3a739c',\n",
              "  'Bündok',\n",
              "  53.543533,\n",
              "  -113.49941,\n",
              "  'Edmonton AB T5J 1B8',\n",
              "  225,\n",
              "  False,\n",
              "  334393.1457045068,\n",
              "  5935642.922589253),\n",
              " '590b776be55d8b18226713a8': ('590b776be55d8b18226713a8',\n",
              "  'Bottega',\n",
              "  53.542803,\n",
              "  -113.499182,\n",
              "  'Edmonton AB T5J 0Z9',\n",
              "  162,\n",
              "  False,\n",
              "  334405.3995620451,\n",
              "  5935561.201078133),\n",
              " '5920de4278782c76cd2af896': ('5920de4278782c76cd2af896',\n",
              "  'Wishbone',\n",
              "  53.541041,\n",
              "  -113.502077,\n",
              "  '10542 Jasper Avenue NW, Edmonton AB T5J 1Z7',\n",
              "  113,\n",
              "  False,\n",
              "  334206.7265449319,\n",
              "  5935371.966579905),\n",
              " '5b6e67da286fda002cc9527a': ('5b6e67da286fda002cc9527a',\n",
              "  'Drunken Ox Sober Cat',\n",
              "  53.542866,\n",
              "  -113.49936,\n",
              "  'Edmonton AB T5J 1A7',\n",
              "  161,\n",
              "  False,\n",
              "  334393.85355965677,\n",
              "  5935568.62196768)}"
            ]
          },
          "metadata": {
            "tags": []
          },
          "execution_count": 15
        }
      ]
    },
    {
      "cell_type": "markdown",
      "metadata": {
        "id": "DWiV6_TrSvi7",
        "colab_type": "text"
      },
      "source": [
        ""
      ]
    },
    {
      "cell_type": "markdown",
      "metadata": {
        "id": "C2cK2qgTmabX",
        "colab_type": "text"
      },
      "source": [
        "Let's print out the results and some basics statistics."
      ]
    },
    {
      "cell_type": "code",
      "metadata": {
        "id": "cNCf2uXe2U0R",
        "colab_type": "code",
        "outputId": "4eb7b0b9-2fd0-42fa-f5f1-1ce33df2e920",
        "colab": {
          "base_uri": "https://localhost:8080/",
          "height": 84
        }
      },
      "source": [
        "print('Total number of restaurants:', len(restaurants))\n",
        "print('Total number of Chinese restaurants:', len(chinese_restaurants))\n",
        "print('Percentage of Chinese restaurants: {:.2f}%'.format(len(chinese_restaurants) / len(restaurants) * 100))\n",
        "print('Average number of restaurants in neighborhood:', np.array([len(r) for r in location_restaurants]).mean())"
      ],
      "execution_count": 16,
      "outputs": [
        {
          "output_type": "stream",
          "text": [
            "Total number of restaurants: 95\n",
            "Total number of Chinese restaurants: 13\n",
            "Percentage of Chinese restaurants: 13.68%\n",
            "Average number of restaurants in neighborhood: 5.066666666666666\n"
          ],
          "name": "stdout"
        }
      ]
    },
    {
      "cell_type": "code",
      "metadata": {
        "id": "YpUUGdk62U6V",
        "colab_type": "code",
        "outputId": "5868ef5c-e5e1-431f-f124-0e29d5ec9b40",
        "colab": {
          "base_uri": "https://localhost:8080/",
          "height": 272
        }
      },
      "source": [
        "print('List of all restaurants')\n",
        "print('-----------------------')\n",
        "for r in list(restaurants.values())[:10]:\n",
        "    print(r)\n",
        "print('...')\n",
        "print('Total:', len(restaurants))"
      ],
      "execution_count": 17,
      "outputs": [
        {
          "output_type": "stream",
          "text": [
            "List of all restaurants\n",
            "-----------------------\n",
            "('4b6cb50ef964a520e04d2ce3', \"Rigoletto's\", 53.539053967983804, -113.49765235103246, '10305 100ave, Edmonton AB', 146, False, 334492.10604495555, 5935140.674094922)\n",
            "('4b675a53f964a520cf492be3', 'LaRonde Restaurant - Chateau Lacombe', 53.53926154306514, -113.49404976360684, '10111 Bellamy Hill Rd. (at MacDonald Dr. NW), Edmonton AB T5J 1N7', 290, False, 334731.5973645472, 5935155.3934075665)\n",
            "('531a181a498ec163295d9915', '3 amigos restaurant', 53.54088, -113.496908, 'Canada', 267, False, 334548.5444278917, 5935342.037195342)\n",
            "('4b078a18f964a52090fe22e3', 'Kyoto Japanese Cuisine', 53.54116949229921, -113.50940302018427, '10128 109 St NW, Edmonton AB T5J 1M7', 84, False, 333721.882603335, 5935403.340123962)\n",
            "('4b0586f6f964a5201b7822e3', 'Khazana Restaurant', 53.542735468061984, -113.50425082076549, '10177 107 Street, Edmonton AB T5J 1J5', 306, False, 334069.34044477774, 5935565.490205238)\n",
            "('4b15f4fef964a52006b623e3', 'Wildflower Grill', 53.539357324801216, -113.50462953204085, '10009 107 St, Edmonton AB T5J 1J1', 339, False, 334031.03372296423, 5935190.653256652)\n",
            "('522261fd11d24696e021e079', 'Hoang Long', 53.540207991649176, -113.50853487802456, '10051 109th Street (South of Jasper Ave. (beside Caffe Sorrentino)), Edmonton AB T5J 1M1', 145, False, 333775.62860988406, 5935294.374513807)\n",
            "('4cc1e65106c25481fa408647', 'Oodle Noodle', 53.541109, -113.507655, '10842 Jasper Ave. NW (at 109 St.), Edmonton AB T5J 2B2', 60, False, 333837.4512552793, 5935392.531625592)\n",
            "('4b071931f964a52034f722e3', 'Mucho Burrito Fresh Mexican Grill', 53.541132, -113.509228, '10124 109 St NW, (Jasper Ave NW), Edmonton AB T5J 1M7', 76, False, 333733.3306468817, 5935398.7615195215)\n",
            "('4bc6753cd35d9c7451dae23a', \"Doan's Downtown\", 53.54160425504446, -113.50512550879697, '10130 107 St (Jasper Ave & 107 St,), Edmonton AB T5J 1J4', 291, False, 334006.9676004845, 5935441.714541658)\n",
            "...\n",
            "Total: 95\n"
          ],
          "name": "stdout"
        }
      ]
    },
    {
      "cell_type": "code",
      "metadata": {
        "id": "qSZYQUEk2U-v",
        "colab_type": "code",
        "outputId": "afb648b6-4cac-4c7d-be0f-d9fd5ba0b98f",
        "colab": {
          "base_uri": "https://localhost:8080/",
          "height": 272
        }
      },
      "source": [
        "print('List of Chinese restaurants')\n",
        "print('---------------------------')\n",
        "for r in list(chinese_restaurants.values())[:10]:\n",
        "    print(r)\n",
        "print('---------------------------')\n",
        "print('Total:', len(chinese_restaurants))"
      ],
      "execution_count": 18,
      "outputs": [
        {
          "output_type": "stream",
          "text": [
            "List of Chinese restaurants\n",
            "---------------------------\n",
            "('4b0d7213f964a5207e4823e3', 'Chicken for Lunch', 53.5416196652816, -113.49322176707038, '10060 Jasper Ave (Scotia Place Food Court), Edmonton AB T5J 3R8', 22, True, 334795.63929736556, 5935415.7447195)\n",
            "('4c390ee30a71c9b604e741c9', 'Wok Box', 53.54092188103267, -113.49492447788208, '10119 Jasper Ave (101st St.), Edmonton AB', 152, True, 334680.11647926795, 5935342.088275741)\n",
            "('4b0d726ff964a520884823e3', 'New Tan Tan Restaurant', 53.5428996062331, -113.48581530685958, '10133 - 97 St (101A Ave), Edmonton AB T5J 0L2', 102, True, 335291.281831532, 5935540.9431688115)\n",
            "('4ee10dfab8f7413830dfa933', 'Kallin Chinese Seafood Restaurant', 53.54883873135637, -113.50865857269224, '10548 - 109 Street, Edmonton AB', 49, True, 333801.26035802613, 5936254.57997853)\n",
            "('4b06e394f964a52042f222e3', 'The Lingnan', 53.54954173860989, -113.4996271679795, '10582 104 St. NW (106 Ave. NW), Edmonton AB T5H 2W1', 103, True, 334402.2251457613, 5936311.725210998)\n",
            "('4b062f70f964a5208de922e3', 'All Happy Family Restaurant', 53.549664, -113.492378, '10011 106 Ave NW, Edmonton AB T5H 0N8', 84, True, 334882.86217534874, 5936308.487179728)\n",
            "('4baaaf36f964a520aa7f3ae3', 'Sai Woo', 53.54998714604011, -113.48861337722107, '10571-97 street, Edmonton AB', 167, True, 335133.47440661886, 5936335.703923013)\n",
            "('4b10f1a7f964a520e57623e3', 'Garden Bakery & Restaurant', 53.54971081879503, -113.49292994764781, '10019 106 Ave NW (at 101st St.), Edmonton AB T5H 0N8', 48, True, 334846.48542444047, 5936314.974587323)\n",
            "('4d07c90d26adb1f73c93e370', 'Emperors Palace', 53.550859169728426, -113.49267544760471, '10638-100 st, Edmonton AB', 346, True, 334867.8150092461, 5936442.1051992625)\n",
            "('4b8c5bd6f964a5209acc32e3', 'Taipan Cafe', 53.5509324688336, -113.48896122550417, '10627 97 Street, Division No. 11 AB T5H 2L5', 303, True, 335114.1104891541, 5936441.649443845)\n",
            "---------------------------\n",
            "Total: 13\n"
          ],
          "name": "stdout"
        }
      ]
    },
    {
      "cell_type": "code",
      "metadata": {
        "id": "qj3kK78p2VBW",
        "colab_type": "code",
        "outputId": "d1fadf89-350b-498a-c8d7-99f4485e8718",
        "colab": {
          "base_uri": "https://localhost:8080/",
          "height": 171
        }
      },
      "source": [
        "print('Restaurants around location')\n",
        "print('---------------------------')\n",
        "for i in range(0,5):\n",
        "    rs = location_restaurants[i][:8]\n",
        "    names = ', '.join([r[1] for r in rs])\n",
        "    print('Restaurants around location {}: {}'.format(i+1, names))\n",
        "\n",
        "print('---------------------------')"
      ],
      "execution_count": 19,
      "outputs": [
        {
          "output_type": "stream",
          "text": [
            "Restaurants around location\n",
            "---------------------------\n",
            "Restaurants around location 1: Rigoletto's, LaRonde Restaurant - Chateau Lacombe\n",
            "Restaurants around location 2: Kyoto Japanese Cuisine, Hoang Long, Oodle Noodle, Mucho Burrito Fresh Mexican Grill, Doan's Downtown, Ruby Dragon, The Sultan Palace\n",
            "Restaurants around location 3: Corso 32, Uccellino, Tzin, I Love Sushi, Blue Plate Diner, Pita Pit, Wishbone, Drunken Ox Sober Cat\n",
            "Restaurants around location 4: Tres Carnales Taquería, Bistro Praha, Chicken for Lunch, V Sandwiches, Sorrentino's Bistro-Bar, State & Main, The Chopped Leaf, Wok Box\n",
            "Restaurants around location 5: Hardware Grill, New Tan Tan Restaurant, Normand's Bistro, Canada Place - Food Court\n",
            "---------------------------\n"
          ],
          "name": "stdout"
        }
      ]
    },
    {
      "cell_type": "markdown",
      "metadata": {
        "id": "mKEshFhNFEix",
        "colab_type": "text"
      },
      "source": [
        "### Ploting Restaurants on the Map\n",
        "Now let's plot restaurants on the map. Chinese restaurant will be represented by red dots, while other restaurant will be blue.\n"
      ]
    },
    {
      "cell_type": "code",
      "metadata": {
        "id": "Ib9znSZHEjd3",
        "colab_type": "code",
        "outputId": "42acf494-8755-4692-a5d7-6680397c623d",
        "colab": {
          "base_uri": "https://localhost:8080/",
          "height": 539
        }
      },
      "source": [
        "map_yeg = folium.Map(location=dt_yeg, zoom_start=14)\n",
        "folium.Marker(dt_yeg, popup='Downtown').add_to(map_yeg)\n",
        "for res in restaurants.values():\n",
        "    lat = res[2]; lon = res[3]\n",
        "    is_chinese = res[6]\n",
        "    color = 'red' if is_chinese else 'blue'\n",
        "    folium.CircleMarker([lat, lon], radius=3, color=color, fill=True, fill_color=color, fill_opacity=1).add_to(map_yeg)\n",
        "map_yeg"
      ],
      "execution_count": 20,
      "outputs": [
        {
          "output_type": "execute_result",
          "data": {
            "text/html": [
              "<div style=\"width:100%;\"><div style=\"position:relative;width:100%;height:0;padding-bottom:60%;\"><iframe src=\"data:text/html;charset=utf-8;base64,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\" style=\"position:absolute;width:100%;height:100%;left:0;top:0;border:none !important;\" allowfullscreen webkitallowfullscreen mozallowfullscreen></iframe></div></div>"
            ],
            "text/plain": [
              "<folium.folium.Map at 0x7f66fbb91940>"
            ]
          },
          "metadata": {
            "tags": []
          },
          "execution_count": 20
        }
      ]
    },
    {
      "cell_type": "markdown",
      "metadata": {
        "id": "PcN1iWX8FSLB",
        "colab_type": "text"
      },
      "source": [
        "## Analysis\n",
        "First, we will perform some basic explanatory analysis. Let's count the total number of restaurants in each candidate neighbourhood. "
      ]
    },
    {
      "cell_type": "code",
      "metadata": {
        "id": "maR5SHcF2VEY",
        "colab_type": "code",
        "outputId": "6328629a-8ecf-4a2f-fe41-8b4cdaa5aebe",
        "colab": {
          "base_uri": "https://localhost:8080/",
          "height": 545
        }
      },
      "source": [
        "location_restaurants_count = [len(res) for res in location_restaurants]\n",
        "\n",
        "df_locations['Restaurants in area'] = location_restaurants_count\n",
        "\n",
        "print('Average number of restaurants in every area with radius=250m:', np.array(location_restaurants_count).mean())\n",
        "\n",
        "df_locations.head(10)"
      ],
      "execution_count": 21,
      "outputs": [
        {
          "output_type": "stream",
          "text": [
            "Average number of restaurants in every area with radius=250m: 5.066666666666666\n"
          ],
          "name": "stdout"
        },
        {
          "output_type": "execute_result",
          "data": {
            "text/html": [
              "<div>\n",
              "<style scoped>\n",
              "    .dataframe tbody tr th:only-of-type {\n",
              "        vertical-align: middle;\n",
              "    }\n",
              "\n",
              "    .dataframe tbody tr th {\n",
              "        vertical-align: top;\n",
              "    }\n",
              "\n",
              "    .dataframe thead th {\n",
              "        text-align: right;\n",
              "    }\n",
              "</style>\n",
              "<table border=\"1\" class=\"dataframe\">\n",
              "  <thead>\n",
              "    <tr style=\"text-align: right;\">\n",
              "      <th></th>\n",
              "      <th>Address</th>\n",
              "      <th>Latitude</th>\n",
              "      <th>Longitude</th>\n",
              "      <th>X</th>\n",
              "      <th>Y</th>\n",
              "      <th>Distance from Downtown</th>\n",
              "      <th>Restaurants in area</th>\n",
              "    </tr>\n",
              "  </thead>\n",
              "  <tbody>\n",
              "    <tr>\n",
              "      <th>0</th>\n",
              "      <td>9923 103 St NW, Edmonton, AB T5K 2J3</td>\n",
              "      <td>53.537857</td>\n",
              "      <td>-113.496728</td>\n",
              "      <td>334548.703964</td>\n",
              "      <td>5.935005e+06</td>\n",
              "      <td>933.012702</td>\n",
              "      <td>2</td>\n",
              "    </tr>\n",
              "    <tr>\n",
              "      <th>1</th>\n",
              "      <td>The Executive, 10105 109 St NW, Edmonton, AB T...</td>\n",
              "      <td>53.541509</td>\n",
              "      <td>-113.508264</td>\n",
              "      <td>333798.703964</td>\n",
              "      <td>5.935438e+06</td>\n",
              "      <td>901.387819</td>\n",
              "      <td>7</td>\n",
              "    </tr>\n",
              "    <tr>\n",
              "      <th>2</th>\n",
              "      <td>105 Street &amp; Jasper Avenue, Edmonton, AB T5J 3N1</td>\n",
              "      <td>53.541667</td>\n",
              "      <td>-113.500726</td>\n",
              "      <td>334298.703964</td>\n",
              "      <td>5.935438e+06</td>\n",
              "      <td>559.016994</td>\n",
              "      <td>11</td>\n",
              "    </tr>\n",
              "    <tr>\n",
              "      <th>3</th>\n",
              "      <td>10043 Jasper Ave, Edmonton, AB T5J 1S6</td>\n",
              "      <td>53.541825</td>\n",
              "      <td>-113.493188</td>\n",
              "      <td>334798.703964</td>\n",
              "      <td>5.935438e+06</td>\n",
              "      <td>559.016994</td>\n",
              "      <td>18</td>\n",
              "    </tr>\n",
              "    <tr>\n",
              "      <th>4</th>\n",
              "      <td>9751 Jasper Ave, Edmonton, AB T5J 0C5</td>\n",
              "      <td>53.541982</td>\n",
              "      <td>-113.485649</td>\n",
              "      <td>335298.703964</td>\n",
              "      <td>5.935438e+06</td>\n",
              "      <td>901.387819</td>\n",
              "      <td>4</td>\n",
              "    </tr>\n",
              "    <tr>\n",
              "      <th>5</th>\n",
              "      <td>107 Street &amp; 103 Avenue, Edmonton, AB T5J 1K3</td>\n",
              "      <td>53.545477</td>\n",
              "      <td>-113.504724</td>\n",
              "      <td>334048.703964</td>\n",
              "      <td>5.935871e+06</td>\n",
              "      <td>504.467341</td>\n",
              "      <td>2</td>\n",
              "    </tr>\n",
              "    <tr>\n",
              "      <th>6</th>\n",
              "      <td>10340 103 St NW, Edmonton, AB T5J 0Y9</td>\n",
              "      <td>53.545634</td>\n",
              "      <td>-113.497186</td>\n",
              "      <td>334548.703964</td>\n",
              "      <td>5.935871e+06</td>\n",
              "      <td>66.987298</td>\n",
              "      <td>5</td>\n",
              "    </tr>\n",
              "    <tr>\n",
              "      <th>7</th>\n",
              "      <td>10248 99 St NW, Edmonton, AB T5J</td>\n",
              "      <td>53.545792</td>\n",
              "      <td>-113.489647</td>\n",
              "      <td>335048.703964</td>\n",
              "      <td>5.935871e+06</td>\n",
              "      <td>504.467341</td>\n",
              "      <td>2</td>\n",
              "    </tr>\n",
              "    <tr>\n",
              "      <th>8</th>\n",
              "      <td>10568 109 St NW, Edmonton, AB T5H 3B2</td>\n",
              "      <td>53.549286</td>\n",
              "      <td>-113.508724</td>\n",
              "      <td>333798.703964</td>\n",
              "      <td>5.936304e+06</td>\n",
              "      <td>834.550535</td>\n",
              "      <td>2</td>\n",
              "    </tr>\n",
              "    <tr>\n",
              "      <th>9</th>\n",
              "      <td>10572 105 St NW, Edmonton, AB T5H 2W7</td>\n",
              "      <td>53.549444</td>\n",
              "      <td>-113.501184</td>\n",
              "      <td>334298.703964</td>\n",
              "      <td>5.936304e+06</td>\n",
              "      <td>443.254550</td>\n",
              "      <td>1</td>\n",
              "    </tr>\n",
              "  </tbody>\n",
              "</table>\n",
              "</div>"
            ],
            "text/plain": [
              "                                             Address  ...  Restaurants in area\n",
              "0               9923 103 St NW, Edmonton, AB T5K 2J3  ...                    2\n",
              "1  The Executive, 10105 109 St NW, Edmonton, AB T...  ...                    7\n",
              "2   105 Street & Jasper Avenue, Edmonton, AB T5J 3N1  ...                   11\n",
              "3             10043 Jasper Ave, Edmonton, AB T5J 1S6  ...                   18\n",
              "4              9751 Jasper Ave, Edmonton, AB T5J 0C5  ...                    4\n",
              "5      107 Street & 103 Avenue, Edmonton, AB T5J 1K3  ...                    2\n",
              "6              10340 103 St NW, Edmonton, AB T5J 0Y9  ...                    5\n",
              "7                   10248 99 St NW, Edmonton, AB T5J  ...                    2\n",
              "8              10568 109 St NW, Edmonton, AB T5H 3B2  ...                    2\n",
              "9              10572 105 St NW, Edmonton, AB T5H 2W7  ...                    1\n",
              "\n",
              "[10 rows x 7 columns]"
            ]
          },
          "metadata": {
            "tags": []
          },
          "execution_count": 21
        }
      ]
    },
    {
      "cell_type": "code",
      "metadata": {
        "id": "7yIeP4KyFtQN",
        "colab_type": "code",
        "colab": {}
      },
      "source": [
        "distances_to_chinese_restaurant = []\n",
        "\n",
        "for area_x, area_y in zip(xs, ys):\n",
        "    min_distance = 10000\n",
        "    for res in chinese_restaurants.values():\n",
        "        res_x = res[7]\n",
        "        res_y = res[8]\n",
        "        d = calc_utm_distance(area_x, area_y, res_x, res_y)\n",
        "        if d<min_distance:\n",
        "            min_distance = d\n",
        "    distances_to_chinese_restaurant.append(min_distance)\n",
        "\n",
        "df_locations['Distance to Chinese restaurant'] = distances_to_chinese_restaurant"
      ],
      "execution_count": 0,
      "outputs": []
    },
    {
      "cell_type": "code",
      "metadata": {
        "id": "O-B0RSEQFtZi",
        "colab_type": "code",
        "outputId": "8b928fc0-fc31-4fda-edda-21751964c01d",
        "colab": {
          "base_uri": "https://localhost:8080/",
          "height": 330
        }
      },
      "source": [
        "df_locations.head()"
      ],
      "execution_count": 23,
      "outputs": [
        {
          "output_type": "execute_result",
          "data": {
            "text/html": [
              "<div>\n",
              "<style scoped>\n",
              "    .dataframe tbody tr th:only-of-type {\n",
              "        vertical-align: middle;\n",
              "    }\n",
              "\n",
              "    .dataframe tbody tr th {\n",
              "        vertical-align: top;\n",
              "    }\n",
              "\n",
              "    .dataframe thead th {\n",
              "        text-align: right;\n",
              "    }\n",
              "</style>\n",
              "<table border=\"1\" class=\"dataframe\">\n",
              "  <thead>\n",
              "    <tr style=\"text-align: right;\">\n",
              "      <th></th>\n",
              "      <th>Address</th>\n",
              "      <th>Latitude</th>\n",
              "      <th>Longitude</th>\n",
              "      <th>X</th>\n",
              "      <th>Y</th>\n",
              "      <th>Distance from Downtown</th>\n",
              "      <th>Restaurants in area</th>\n",
              "      <th>Distance to Chinese restaurant</th>\n",
              "    </tr>\n",
              "  </thead>\n",
              "  <tbody>\n",
              "    <tr>\n",
              "      <th>0</th>\n",
              "      <td>9923 103 St NW, Edmonton, AB T5K 2J3</td>\n",
              "      <td>53.537857</td>\n",
              "      <td>-113.496728</td>\n",
              "      <td>334548.703964</td>\n",
              "      <td>5.935005e+06</td>\n",
              "      <td>933.012702</td>\n",
              "      <td>2</td>\n",
              "      <td>361.377601</td>\n",
              "    </tr>\n",
              "    <tr>\n",
              "      <th>1</th>\n",
              "      <td>The Executive, 10105 109 St NW, Edmonton, AB T...</td>\n",
              "      <td>53.541509</td>\n",
              "      <td>-113.508264</td>\n",
              "      <td>333798.703964</td>\n",
              "      <td>5.935438e+06</td>\n",
              "      <td>901.387819</td>\n",
              "      <td>7</td>\n",
              "      <td>816.120081</td>\n",
              "    </tr>\n",
              "    <tr>\n",
              "      <th>2</th>\n",
              "      <td>105 Street &amp; Jasper Avenue, Edmonton, AB T5J 3N1</td>\n",
              "      <td>53.541667</td>\n",
              "      <td>-113.500726</td>\n",
              "      <td>334298.703964</td>\n",
              "      <td>5.935438e+06</td>\n",
              "      <td>559.016994</td>\n",
              "      <td>11</td>\n",
              "      <td>393.400264</td>\n",
              "    </tr>\n",
              "    <tr>\n",
              "      <th>3</th>\n",
              "      <td>10043 Jasper Ave, Edmonton, AB T5J 1S6</td>\n",
              "      <td>53.541825</td>\n",
              "      <td>-113.493188</td>\n",
              "      <td>334798.703964</td>\n",
              "      <td>5.935438e+06</td>\n",
              "      <td>559.016994</td>\n",
              "      <td>18</td>\n",
              "      <td>22.924951</td>\n",
              "    </tr>\n",
              "    <tr>\n",
              "      <th>4</th>\n",
              "      <td>9751 Jasper Ave, Edmonton, AB T5J 0C5</td>\n",
              "      <td>53.541982</td>\n",
              "      <td>-113.485649</td>\n",
              "      <td>335298.703964</td>\n",
              "      <td>5.935438e+06</td>\n",
              "      <td>901.387819</td>\n",
              "      <td>4</td>\n",
              "      <td>102.747693</td>\n",
              "    </tr>\n",
              "  </tbody>\n",
              "</table>\n",
              "</div>"
            ],
            "text/plain": [
              "                                             Address  ...  Distance to Chinese restaurant\n",
              "0               9923 103 St NW, Edmonton, AB T5K 2J3  ...                      361.377601\n",
              "1  The Executive, 10105 109 St NW, Edmonton, AB T...  ...                      816.120081\n",
              "2   105 Street & Jasper Avenue, Edmonton, AB T5J 3N1  ...                      393.400264\n",
              "3             10043 Jasper Ave, Edmonton, AB T5J 1S6  ...                       22.924951\n",
              "4              9751 Jasper Ave, Edmonton, AB T5J 0C5  ...                      102.747693\n",
              "\n",
              "[5 rows x 8 columns]"
            ]
          },
          "metadata": {
            "tags": []
          },
          "execution_count": 23
        }
      ]
    },
    {
      "cell_type": "code",
      "metadata": {
        "id": "LbLipY_HGCdI",
        "colab_type": "code",
        "outputId": "a870b89a-4df6-4eac-fa2f-51f1d877c26b",
        "colab": {
          "base_uri": "https://localhost:8080/",
          "height": 34
        }
      },
      "source": [
        "print('Average distance to closest chinese restaurant from each area center:', df_locations['Distance to Chinese restaurant'].mean())"
      ],
      "execution_count": 24,
      "outputs": [
        {
          "output_type": "stream",
          "text": [
            "Average distance to closest chinese restaurant from each area center: 299.6669363220621\n"
          ],
          "name": "stdout"
        }
      ]
    },
    {
      "cell_type": "markdown",
      "metadata": {
        "id": "l5XPssgakZCb",
        "colab_type": "text"
      },
      "source": [
        "OK, so on average Chinese restaurant can be found within ~300m from every area center candidate. That's fairly close, so we need to filter our areas carefully!\n",
        "\n",
        "Let's create a map showing heatmap / density of restaurants and try to extract some meaningfull info from that. Also, let's show a few circles indicating distance of 300m, 600m, and 1000m from Rogers Place."
      ]
    },
    {
      "cell_type": "code",
      "metadata": {
        "id": "D1FsH3E5lOv2",
        "colab_type": "code",
        "colab": {}
      },
      "source": [
        "restaurant_latlons = [[res[2], res[3]] for res in restaurants.values()]\n",
        "chinese_latlons = [[res[2], res[3]] for res in chinese_restaurants.values()]"
      ],
      "execution_count": 0,
      "outputs": []
    },
    {
      "cell_type": "code",
      "metadata": {
        "id": "w_xJ6ET2lWGV",
        "colab_type": "code",
        "outputId": "6490d2b4-88ec-40f6-d75d-5ffb4d684a88",
        "colab": {
          "base_uri": "https://localhost:8080/",
          "height": 539
        }
      },
      "source": [
        "map_yeg = folium.Map(location=dt_yeg, zoom_start=14)\n",
        "folium.TileLayer('cartodbpositron').add_to(map_yeg) #cartodbpositron cartodbdark_matter\n",
        "HeatMap(restaurant_latlons).add_to(map_yeg)\n",
        "folium.Marker(dt_yeg).add_to(map_yeg)\n",
        "folium.Circle(dt_yeg, radius=300, fill=False, color='#5c5c5c').add_to(map_yeg)\n",
        "folium.Circle(dt_yeg, radius=600, fill=False, color='#5c5c5c').add_to(map_yeg)\n",
        "folium.Circle(dt_yeg, radius=1000, fill=False, color='#5c5c5c').add_to(map_yeg)\n",
        "map_yeg"
      ],
      "execution_count": 26,
      "outputs": [
        {
          "output_type": "execute_result",
          "data": {
            "text/html": [
              "<div style=\"width:100%;\"><div style=\"position:relative;width:100%;height:0;padding-bottom:60%;\"><iframe src=\"data:text/html;charset=utf-8;base64,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\" style=\"position:absolute;width:100%;height:100%;left:0;top:0;border:none !important;\" allowfullscreen webkitallowfullscreen mozallowfullscreen></iframe></div></div>"
            ],
            "text/plain": [
              "<folium.folium.Map at 0x7f66fc3d7d30>"
            ]
          },
          "metadata": {
            "tags": []
          },
          "execution_count": 26
        }
      ]
    },
    {
      "cell_type": "markdown",
      "metadata": {
        "id": "ffjacxbbkTG8",
        "colab_type": "text"
      },
      "source": [
        "There are a few pockets of low restaurant density.\n",
        "\n",
        "Create another heatmap map showing heatmap/density of Chinese restaurants only."
      ]
    },
    {
      "cell_type": "code",
      "metadata": {
        "id": "Ab25N0LzlWFc",
        "colab_type": "code",
        "outputId": "2cd0b801-bc11-4cf7-b874-33baf4c5e739",
        "colab": {
          "base_uri": "https://localhost:8080/",
          "height": 539
        }
      },
      "source": [
        "map_yeg = folium.Map(location=dt_yeg, zoom_start=14)\n",
        "folium.TileLayer('cartodbpositron').add_to(map_yeg) #cartodbpositron cartodbdark_matter\n",
        "HeatMap(chinese_latlons).add_to(map_yeg)\n",
        "folium.Marker(dt_yeg).add_to(map_yeg)\n",
        "folium.Circle(dt_yeg, radius=300, fill=False, color='#5c5c5c').add_to(map_yeg)\n",
        "folium.Circle(dt_yeg, radius=600, fill=False, color='#5c5c5c').add_to(map_yeg)\n",
        "folium.Circle(dt_yeg, radius=1000, fill=False, color='#5c5c5c').add_to(map_yeg)\n",
        "map_yeg"
      ],
      "execution_count": 27,
      "outputs": [
        {
          "output_type": "execute_result",
          "data": {
            "text/html": [
              "<div style=\"width:100%;\"><div style=\"position:relative;width:100%;height:0;padding-bottom:60%;\"><iframe src=\"data:text/html;charset=utf-8;base64,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\" style=\"position:absolute;width:100%;height:100%;left:0;top:0;border:none !important;\" allowfullscreen webkitallowfullscreen mozallowfullscreen></iframe></div></div>"
            ],
            "text/plain": [
              "<folium.folium.Map at 0x7f66fbb1eba8>"
            ]
          },
          "metadata": {
            "tags": []
          },
          "execution_count": 27
        }
      ]
    },
    {
      "cell_type": "markdown",
      "metadata": {
        "id": "tco4ILNmc2Fw",
        "colab_type": "text"
      },
      "source": [
        "We can see there is a high Chinese restaurant density on top-right corner. Right, that is China Town."
      ]
    },
    {
      "cell_type": "markdown",
      "metadata": {
        "id": "a3Fy-N37ag_X",
        "colab_type": "text"
      },
      "source": [
        "## **Locate Solutions**"
      ]
    },
    {
      "cell_type": "code",
      "metadata": {
        "id": "0FQ30ojLk1xr",
        "colab_type": "code",
        "outputId": "2ead8d66-3c2f-49b7-ef37-885267375c3c",
        "colab": {
          "base_uri": "https://localhost:8080/",
          "height": 539
        }
      },
      "source": [
        "roi_x_min = dt_yeg_x - 400\n",
        "roi_y_max = dt_yeg_y + 200\n",
        "roi_width = 1000\n",
        "roi_height = 1000\n",
        "roi_dt_x = roi_x_min + 500\n",
        "roi_dt_y = roi_y_max - 500\n",
        "roi_dt_lon, roi_dt_lat = utm_to_lonlat(roi_dt_x, roi_dt_y)\n",
        "roi_dt = [roi_dt_lat, roi_dt_lon]\n",
        "\n",
        "map_yeg = folium.Map(location=roi_dt, zoom_start=15)\n",
        "HeatMap(restaurant_latlons).add_to(map_yeg)\n",
        "folium.Marker(dt_yeg).add_to(map_yeg)\n",
        "folium.Circle(roi_dt, radius=1000, color='white', fill=True, fill_opacity=0.4).add_to(map_yeg)\n",
        "map_yeg"
      ],
      "execution_count": 28,
      "outputs": [
        {
          "output_type": "execute_result",
          "data": {
            "text/html": [
              "<div style=\"width:100%;\"><div style=\"position:relative;width:100%;height:0;padding-bottom:60%;\"><iframe src=\"data:text/html;charset=utf-8;base64,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\" style=\"position:absolute;width:100%;height:100%;left:0;top:0;border:none !important;\" allowfullscreen webkitallowfullscreen mozallowfullscreen></iframe></div></div>"
            ],
            "text/plain": [
              "<folium.folium.Map at 0x7f66faaa7dd8>"
            ]
          },
          "metadata": {
            "tags": []
          },
          "execution_count": 28
        }
      ]
    },
    {
      "cell_type": "code",
      "metadata": {
        "id": "bKISmLGplWDm",
        "colab_type": "code",
        "outputId": "0d8736e8-4f73-421f-f410-afb1a893c8c3",
        "colab": {
          "base_uri": "https://localhost:8080/",
          "height": 34
        }
      },
      "source": [
        "k = math.sqrt(3) / 2 # Vertical offset for hexagonal grid cells\n",
        "x_step = 100\n",
        "y_step = 100 * k \n",
        "roi_y_min = roi_dt_y - 2500\n",
        "\n",
        "roi_latitudes = []\n",
        "roi_longitudes = []\n",
        "roi_xs = []\n",
        "roi_ys = []\n",
        "for i in range(0, int(51/k)):\n",
        "    y = roi_y_min + i * y_step\n",
        "    x_offset = 50 if i%2==0 else 0\n",
        "    for j in range(0, 51):\n",
        "        x = roi_x_min + j * x_step + x_offset\n",
        "        d = calc_utm_distance(roi_dt_x, roi_dt_y, x, y)\n",
        "        if (d <= 501):\n",
        "            lon, lat = utm_to_lonlat(x, y)\n",
        "            roi_latitudes.append(lat)\n",
        "            roi_longitudes.append(lon)\n",
        "            roi_xs.append(x)\n",
        "            roi_ys.append(y)\n",
        "\n",
        "print(len(roi_latitudes), 'candidate neighborhood centers generated.')"
      ],
      "execution_count": 29,
      "outputs": [
        {
          "output_type": "stream",
          "text": [
            "89 candidate neighborhood centers generated.\n"
          ],
          "name": "stdout"
        }
      ]
    },
    {
      "cell_type": "markdown",
      "metadata": {
        "id": "Uh99vyTAgZrb",
        "colab_type": "text"
      },
      "source": [
        "OK. Now let's calculate two most important things for each location candidate: number of restaurants in vicinity (we'll use radius of 250 meters) and distance to closest Chinese restaurant."
      ]
    },
    {
      "cell_type": "code",
      "metadata": {
        "id": "3YyLinwPgZNB",
        "colab_type": "code",
        "outputId": "11b95d47-470c-43eb-ff5f-c970920791cb",
        "colab": {
          "base_uri": "https://localhost:8080/",
          "height": 50
        }
      },
      "source": [
        "def count_restaurants_nearby(x, y, restaurants, radius=250):    \n",
        "    count = 0\n",
        "    for res in restaurants.values():\n",
        "        res_x = res[7]; res_y = res[8]\n",
        "        d = calc_utm_distance(x, y, res_x, res_y)\n",
        "        if d<=radius:\n",
        "            count += 1\n",
        "    return count\n",
        "\n",
        "def find_nearest_restaurant(x, y, restaurants):\n",
        "    d_min = 100000\n",
        "    for res in restaurants.values():\n",
        "        res_x = res[7]; res_y = res[8]\n",
        "        d = calc_utm_distance(x, y, res_x, res_y)\n",
        "        if d<=d_min:\n",
        "            d_min = d\n",
        "    return d_min\n",
        "\n",
        "roi_restaurant_counts = []\n",
        "roi_chinese_distances = []\n",
        "\n",
        "print('Generating data on location candidates... ')\n",
        "for x, y in zip(roi_xs, roi_ys):\n",
        "    count = count_restaurants_nearby(x, y, restaurants, radius=250)\n",
        "    roi_restaurant_counts.append(count)\n",
        "    distance = find_nearest_restaurant(x, y, chinese_restaurants)\n",
        "    roi_chinese_distances.append(distance)\n",
        "print('Done.')"
      ],
      "execution_count": 30,
      "outputs": [
        {
          "output_type": "stream",
          "text": [
            "Generating data on location candidates... \n",
            "Done.\n"
          ],
          "name": "stdout"
        }
      ]
    },
    {
      "cell_type": "code",
      "metadata": {
        "id": "uat0DRU5lWCu",
        "colab_type": "code",
        "colab": {}
      },
      "source": [
        "# Store the data in a DataFrame\n",
        "df_roi_locations = pd.DataFrame({'Latitude':roi_latitudes,\n",
        "                                 'Longitude':roi_longitudes,\n",
        "                                 'X':roi_xs,\n",
        "                                 'Y':roi_ys,\n",
        "                                 'Restaurants nearby':roi_restaurant_counts,\n",
        "                                 'Distance to Chinese restaurant':roi_chinese_distances})"
      ],
      "execution_count": 0,
      "outputs": []
    },
    {
      "cell_type": "code",
      "metadata": {
        "id": "m4a23up-lWBt",
        "colab_type": "code",
        "outputId": "b528e146-bc80-4315-ea67-04f5f68701dd",
        "colab": {
          "base_uri": "https://localhost:8080/",
          "height": 343
        }
      },
      "source": [
        "df_roi_locations.head(10)"
      ],
      "execution_count": 32,
      "outputs": [
        {
          "output_type": "execute_result",
          "data": {
            "text/html": [
              "<div>\n",
              "<style scoped>\n",
              "    .dataframe tbody tr th:only-of-type {\n",
              "        vertical-align: middle;\n",
              "    }\n",
              "\n",
              "    .dataframe tbody tr th {\n",
              "        vertical-align: top;\n",
              "    }\n",
              "\n",
              "    .dataframe thead th {\n",
              "        text-align: right;\n",
              "    }\n",
              "</style>\n",
              "<table border=\"1\" class=\"dataframe\">\n",
              "  <thead>\n",
              "    <tr style=\"text-align: right;\">\n",
              "      <th></th>\n",
              "      <th>Latitude</th>\n",
              "      <th>Longitude</th>\n",
              "      <th>X</th>\n",
              "      <th>Y</th>\n",
              "      <th>Restaurants nearby</th>\n",
              "      <th>Distance to Chinese restaurant</th>\n",
              "    </tr>\n",
              "  </thead>\n",
              "  <tbody>\n",
              "    <tr>\n",
              "      <th>0</th>\n",
              "      <td>53.539709</td>\n",
              "      <td>-113.499101</td>\n",
              "      <td>334398.703964</td>\n",
              "      <td>5.935217e+06</td>\n",
              "      <td>8</td>\n",
              "      <td>307.991691</td>\n",
              "    </tr>\n",
              "    <tr>\n",
              "      <th>1</th>\n",
              "      <td>53.539741</td>\n",
              "      <td>-113.497593</td>\n",
              "      <td>334498.703964</td>\n",
              "      <td>5.935217e+06</td>\n",
              "      <td>7</td>\n",
              "      <td>220.400496</td>\n",
              "    </tr>\n",
              "    <tr>\n",
              "      <th>2</th>\n",
              "      <td>53.539772</td>\n",
              "      <td>-113.496086</td>\n",
              "      <td>334598.703964</td>\n",
              "      <td>5.935217e+06</td>\n",
              "      <td>9</td>\n",
              "      <td>149.311338</td>\n",
              "    </tr>\n",
              "    <tr>\n",
              "      <th>3</th>\n",
              "      <td>53.539804</td>\n",
              "      <td>-113.494578</td>\n",
              "      <td>334698.703964</td>\n",
              "      <td>5.935217e+06</td>\n",
              "      <td>12</td>\n",
              "      <td>126.536053</td>\n",
              "    </tr>\n",
              "    <tr>\n",
              "      <th>4</th>\n",
              "      <td>53.539835</td>\n",
              "      <td>-113.493071</td>\n",
              "      <td>334798.703964</td>\n",
              "      <td>5.935217e+06</td>\n",
              "      <td>12</td>\n",
              "      <td>172.420618</td>\n",
              "    </tr>\n",
              "    <tr>\n",
              "      <th>5</th>\n",
              "      <td>53.539867</td>\n",
              "      <td>-113.491563</td>\n",
              "      <td>334898.703964</td>\n",
              "      <td>5.935217e+06</td>\n",
              "      <td>11</td>\n",
              "      <td>223.945659</td>\n",
              "    </tr>\n",
              "    <tr>\n",
              "      <th>6</th>\n",
              "      <td>53.540471</td>\n",
              "      <td>-113.499900</td>\n",
              "      <td>334348.703964</td>\n",
              "      <td>5.935304e+06</td>\n",
              "      <td>11</td>\n",
              "      <td>333.648311</td>\n",
              "    </tr>\n",
              "    <tr>\n",
              "      <th>7</th>\n",
              "      <td>53.540503</td>\n",
              "      <td>-113.498393</td>\n",
              "      <td>334448.703964</td>\n",
              "      <td>5.935304e+06</td>\n",
              "      <td>9</td>\n",
              "      <td>234.603266</td>\n",
              "    </tr>\n",
              "    <tr>\n",
              "      <th>8</th>\n",
              "      <td>53.540534</td>\n",
              "      <td>-113.496885</td>\n",
              "      <td>334548.703964</td>\n",
              "      <td>5.935304e+06</td>\n",
              "      <td>11</td>\n",
              "      <td>136.953238</td>\n",
              "    </tr>\n",
              "    <tr>\n",
              "      <th>9</th>\n",
              "      <td>53.540566</td>\n",
              "      <td>-113.495378</td>\n",
              "      <td>334648.703964</td>\n",
              "      <td>5.935304e+06</td>\n",
              "      <td>14</td>\n",
              "      <td>49.736168</td>\n",
              "    </tr>\n",
              "  </tbody>\n",
              "</table>\n",
              "</div>"
            ],
            "text/plain": [
              "    Latitude   Longitude  ...  Restaurants nearby  Distance to Chinese restaurant\n",
              "0  53.539709 -113.499101  ...                   8                      307.991691\n",
              "1  53.539741 -113.497593  ...                   7                      220.400496\n",
              "2  53.539772 -113.496086  ...                   9                      149.311338\n",
              "3  53.539804 -113.494578  ...                  12                      126.536053\n",
              "4  53.539835 -113.493071  ...                  12                      172.420618\n",
              "5  53.539867 -113.491563  ...                  11                      223.945659\n",
              "6  53.540471 -113.499900  ...                  11                      333.648311\n",
              "7  53.540503 -113.498393  ...                   9                      234.603266\n",
              "8  53.540534 -113.496885  ...                  11                      136.953238\n",
              "9  53.540566 -113.495378  ...                  14                       49.736168\n",
              "\n",
              "[10 rows x 6 columns]"
            ]
          },
          "metadata": {
            "tags": []
          },
          "execution_count": 32
        }
      ]
    },
    {
      "cell_type": "markdown",
      "metadata": {
        "id": "6wJr8zZjhnZC",
        "colab_type": "text"
      },
      "source": [
        "Let us now **filter** those locations: we're interested only in **locations with no more than three restaurants near by**, and **no Chinese restaurants in radius of 300 meters**.\n"
      ]
    },
    {
      "cell_type": "code",
      "metadata": {
        "id": "N1e5Q2EWlWAp",
        "colab_type": "code",
        "outputId": "9c12267b-5795-432b-8f2e-cb578dada6d9",
        "colab": {
          "base_uri": "https://localhost:8080/",
          "height": 67
        }
      },
      "source": [
        "good_res_count = np.array((df_roi_locations['Restaurants nearby']<=3))\n",
        "print('Locations with no more than three restaurants nearby:', good_res_count.sum())\n",
        "\n",
        "good_chn_distance = np.array(df_roi_locations['Distance to Chinese restaurant']>=300)\n",
        "print('Locations with no Chinese restaurants within 300m:', good_chn_distance.sum())\n",
        "\n",
        "good_locations = np.logical_and(good_res_count, good_chn_distance)\n",
        "print('Locations with both conditions met:', good_locations.sum())\n",
        "\n",
        "df_good_locations = df_roi_locations[good_locations]"
      ],
      "execution_count": 33,
      "outputs": [
        {
          "output_type": "stream",
          "text": [
            "Locations with no more than three restaurants nearby: 14\n",
            "Locations with no Chinese restaurants within 300m: 47\n",
            "Locations with both conditions met: 12\n"
          ],
          "name": "stdout"
        }
      ]
    },
    {
      "cell_type": "markdown",
      "metadata": {
        "id": "HDKx0zFUAUom",
        "colab_type": "text"
      },
      "source": [
        "Now, plot the processed data on the map."
      ]
    },
    {
      "cell_type": "code",
      "metadata": {
        "id": "AYe48_f5lV_m",
        "colab_type": "code",
        "outputId": "163e0076-b562-46ac-ea74-45fde0532bfb",
        "colab": {
          "base_uri": "https://localhost:8080/",
          "height": 539
        }
      },
      "source": [
        "good_latitudes = df_good_locations['Latitude'].values\n",
        "good_longitudes = df_good_locations['Longitude'].values\n",
        "\n",
        "good_locations = [[lat, lon] for lat, lon in zip(good_latitudes, good_longitudes)]\n",
        "\n",
        "map_yeg = folium.Map(location=roi_dt, zoom_start=15)\n",
        "folium.TileLayer('cartodbpositron').add_to(map_yeg)\n",
        "HeatMap(restaurant_latlons).add_to(map_yeg)\n",
        "folium.Circle(roi_dt, radius=1000, color='white', fill=True, fill_opacity=0.6).add_to(map_yeg)\n",
        "folium.Marker(dt_yeg).add_to(map_yeg)\n",
        "for lat, lon in zip(good_latitudes, good_longitudes):\n",
        "    folium.CircleMarker([lat, lon], radius=2, color='blue', fill=True, fill_color='blue', fill_opacity=1).add_to(map_yeg) \n",
        "map_yeg"
      ],
      "execution_count": 34,
      "outputs": [
        {
          "output_type": "execute_result",
          "data": {
            "text/html": [
              "<div style=\"width:100%;\"><div style=\"position:relative;width:100%;height:0;padding-bottom:60%;\"><iframe src=\"data:text/html;charset=utf-8;base64,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\" style=\"position:absolute;width:100%;height:100%;left:0;top:0;border:none !important;\" allowfullscreen webkitallowfullscreen mozallowfullscreen></iframe></div></div>"
            ],
            "text/plain": [
              "<folium.folium.Map at 0x7f66faabda20>"
            ]
          },
          "metadata": {
            "tags": []
          },
          "execution_count": 34
        }
      ]
    },
    {
      "cell_type": "markdown",
      "metadata": {
        "id": "CD0sWbwUCx5f",
        "colab_type": "text"
      },
      "source": [
        "We now have a few locations, and we know that each of those locations has no more than two restaurants in radius of 250m, and no Chinese restaurant closer than 400m. Any of those locations is a potential candidate for a new Chinese restaurant, at least based on nearby competition.\n",
        "\n",
        "Let's now show those good locations in a form of heatmap:"
      ]
    },
    {
      "cell_type": "code",
      "metadata": {
        "id": "oynX67CflV9r",
        "colab_type": "code",
        "outputId": "fb73f156-c0cb-473d-c5e7-41cef6b8c9b6",
        "colab": {
          "base_uri": "https://localhost:8080/",
          "height": 539
        }
      },
      "source": [
        "map_yeg = folium.Map(location=dt_yeg, zoom_start=15)\n",
        "HeatMap(good_locations, radius=25).add_to(map_yeg)\n",
        "folium.Marker(dt_yeg).add_to(map_yeg)\n",
        "for lat, lon in zip(good_latitudes, good_longitudes):\n",
        "    folium.CircleMarker([lat, lon], radius=2, color='blue', fill=True, fill_color='blue', fill_opacity=1).add_to(map_yeg)\n",
        "map_yeg"
      ],
      "execution_count": 35,
      "outputs": [
        {
          "output_type": "execute_result",
          "data": {
            "text/html": [
              "<div style=\"width:100%;\"><div style=\"position:relative;width:100%;height:0;padding-bottom:60%;\"><iframe src=\"data:text/html;charset=utf-8;base64,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\" style=\"position:absolute;width:100%;height:100%;left:0;top:0;border:none !important;\" allowfullscreen webkitallowfullscreen mozallowfullscreen></iframe></div></div>"
            ],
            "text/plain": [
              "<folium.folium.Map at 0x7f66fbb0cfd0>"
            ]
          },
          "metadata": {
            "tags": []
          },
          "execution_count": 35
        }
      ]
    },
    {
      "cell_type": "markdown",
      "metadata": {
        "id": "UgGfH5NSEXkS",
        "colab_type": "text"
      },
      "source": [
        "What we have now is a clear indication of zones with low number of restaurants in vicinity, and no Chinese restaurants at all nearby.\n",
        "\n",
        "Let's now cluster those locations to create centers of zones containing good locations. Those zones, their centers and addresses will be the final result of our analysis."
      ]
    },
    {
      "cell_type": "code",
      "metadata": {
        "id": "-wkMbRwDlVk8",
        "colab_type": "code",
        "outputId": "c5829e9d-5c80-43d0-c84a-cba472b05d6a",
        "colab": {
          "base_uri": "https://localhost:8080/",
          "height": 539
        }
      },
      "source": [
        "k = 2\n",
        "\n",
        "good_xys = df_good_locations[['X', 'Y']].values\n",
        "kmeans = KMeans(n_clusters=k, random_state=0).fit(good_xys)\n",
        "\n",
        "cluster_centers = [utm_to_lonlat(cc[0], cc[1]) for cc in kmeans.cluster_centers_]\n",
        "\n",
        "map_yeg = folium.Map(location=roi_dt, zoom_start=14)\n",
        "folium.TileLayer('cartodbpositron').add_to(map_yeg)\n",
        "HeatMap(restaurant_latlons).add_to(map_yeg)\n",
        "folium.Circle(roi_dt, radius=500, color='white', fill=True, fill_opacity=0.4).add_to(map_yeg)\n",
        "folium.Marker(dt_yeg).add_to(map_yeg)\n",
        "for lon, lat in cluster_centers:\n",
        "    folium.Circle([lat, lon], radius=500, color='green', fill=True, fill_opacity=0.25).add_to(map_yeg) \n",
        "for lat, lon in zip(good_latitudes, good_longitudes):\n",
        "    folium.CircleMarker([lat, lon], radius=2, color='blue', fill=True, fill_color='blue', fill_opacity=1).add_to(map_yeg)\n",
        "map_yeg"
      ],
      "execution_count": 36,
      "outputs": [
        {
          "output_type": "execute_result",
          "data": {
            "text/html": [
              "<div style=\"width:100%;\"><div style=\"position:relative;width:100%;height:0;padding-bottom:60%;\"><iframe src=\"data:text/html;charset=utf-8;base64,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\" style=\"position:absolute;width:100%;height:100%;left:0;top:0;border:none !important;\" allowfullscreen webkitallowfullscreen mozallowfullscreen></iframe></div></div>"
            ],
            "text/plain": [
              "<folium.folium.Map at 0x7f6728de1c88>"
            ]
          },
          "metadata": {
            "tags": []
          },
          "execution_count": 36
        }
      ]
    },
    {
      "cell_type": "markdown",
      "metadata": {
        "id": "ntz9BwUhFKOP",
        "colab_type": "text"
      },
      "source": [
        "Thoes two clusters represent groupings of most of the candidate locations and cluster centers are placed in the middle of the zones 'rich' with location candidates.\n",
        "\n",
        "The circles represent ranges where it could be ideal for the restaurant relocation. Let's see the circle on a map."
      ]
    },
    {
      "cell_type": "code",
      "metadata": {
        "id": "Md4J8gSPlVY6",
        "colab_type": "code",
        "outputId": "311fcb2f-b839-4491-af8b-5f4e3c1bec97",
        "colab": {
          "base_uri": "https://localhost:8080/",
          "height": 539
        }
      },
      "source": [
        "map_yeg = folium.Map(location=dt_yeg, zoom_start=15)\n",
        "folium.Marker(dt_yeg).add_to(map_yeg)\n",
        "for lat, lon in zip(good_latitudes, good_longitudes):\n",
        "    folium.Circle([lat, lon], radius=250, color='#00000000', fill=True, fill_color='#0066ff', fill_opacity=0.07).add_to(map_yeg)\n",
        "for lat, lon in zip(good_latitudes, good_longitudes):\n",
        "    folium.CircleMarker([lat, lon], radius=2, color='blue', fill=True, fill_color='blue', fill_opacity=1).add_to(map_yeg)\n",
        "for lon, lat in cluster_centers:\n",
        "    folium.Circle([lat, lon], radius=500, color='green', fill=False).add_to(map_yeg) \n",
        "map_yeg"
      ],
      "execution_count": 37,
      "outputs": [
        {
          "output_type": "execute_result",
          "data": {
            "text/html": [
              "<div style=\"width:100%;\"><div style=\"position:relative;width:100%;height:0;padding-bottom:60%;\"><iframe src=\"data:text/html;charset=utf-8;base64,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\" style=\"position:absolute;width:100%;height:100%;left:0;top:0;border:none !important;\" allowfullscreen webkitallowfullscreen mozallowfullscreen></iframe></div></div>"
            ],
            "text/plain": [
              "<folium.folium.Map at 0x7f66faa93128>"
            ]
          },
          "metadata": {
            "tags": []
          },
          "execution_count": 37
        }
      ]
    },
    {
      "cell_type": "markdown",
      "metadata": {
        "id": "dzAb5HS1HVZ6",
        "colab_type": "text"
      },
      "source": [
        "**Finaly**, reverse geocode those candidate area centers to get the addresses which can be presented to stakeholders."
      ]
    },
    {
      "cell_type": "code",
      "metadata": {
        "id": "UTIaqB-kFMk_",
        "colab_type": "code",
        "outputId": "922b7f53-7636-4f49-d2ae-40a141ccdb53",
        "colab": {
          "base_uri": "https://localhost:8080/",
          "height": 118
        }
      },
      "source": [
        "candidate_area_addresses = []\n",
        "print('==============================================================')\n",
        "print('Addresses of centers of areas recommended for further analysis')\n",
        "print('==============================================================\\n')\n",
        "for lon, lat in cluster_centers:\n",
        "    addr = get_address(google_api_key, lat, lon).replace(', Canada', '')\n",
        "    index = addr.index(\", AB\")\n",
        "    candidate_area_addresses.append(addr)    \n",
        "    x, y = lonlat_to_utm(lon, lat)\n",
        "    d = calc_utm_distance(x, y, dt_yeg_x, dt_yeg_y)\n",
        "    print('{}{}=> {:0.2f}m from Rogers Place'.format(addr[:index], ' '*(35-len(addr[:index])), d))"
      ],
      "execution_count": 38,
      "outputs": [
        {
          "output_type": "stream",
          "text": [
            "==============================================================\n",
            "Addresses of centers of areas recommended for further analysis\n",
            "==============================================================\n",
            "\n",
            "10220 104 Ave NW, Edmonton         => 58.84m from Rogers Place\n",
            "99 Street & 103A Avenue, Edmonton  => 450.92m from Rogers Place\n"
          ],
          "name": "stdout"
        }
      ]
    },
    {
      "cell_type": "markdown",
      "metadata": {
        "id": "AoflDsHVHZ3n",
        "colab_type": "text"
      },
      "source": [
        "Plot these address on the map"
      ]
    },
    {
      "cell_type": "code",
      "metadata": {
        "id": "qIwgQ4v5FMls",
        "colab_type": "code",
        "outputId": "69d838b4-237a-4563-a2e9-15f356a3667f",
        "colab": {
          "base_uri": "https://localhost:8080/",
          "height": 539
        }
      },
      "source": [
        "map_yeg = folium.Map(location=dt_yeg, zoom_start=16)\n",
        "folium.Circle(dt_yeg, radius=10, color='#f01111', fill=True, fill_color='#ff6e6e', fill_opacity=0.8, popup='Rogers Place').add_to(map_yeg)\n",
        "for lonlat, addr in zip(cluster_centers, candidate_area_addresses):\n",
        "    folium.Marker([lonlat[1], lonlat[0]], popup=addr).add_to(map_yeg) \n",
        "for lat, lon in zip(good_latitudes, good_longitudes):\n",
        "    folium.Circle([lat, lon], radius=250, color='#0000ff00', fill=True, fill_color='#0066ff', fill_opacity=0.05).add_to(map_yeg)\n",
        "map_yeg\n"
      ],
      "execution_count": 39,
      "outputs": [
        {
          "output_type": "execute_result",
          "data": {
            "text/html": [
              "<div style=\"width:100%;\"><div style=\"position:relative;width:100%;height:0;padding-bottom:60%;\"><iframe src=\"data:text/html;charset=utf-8;base64,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\" style=\"position:absolute;width:100%;height:100%;left:0;top:0;border:none !important;\" allowfullscreen webkitallowfullscreen mozallowfullscreen></iframe></div></div>"
            ],
            "text/plain": [
              "<folium.folium.Map at 0x7f66faa54c88>"
            ]
          },
          "metadata": {
            "tags": []
          },
          "execution_count": 39
        }
      ]
    },
    {
      "cell_type": "markdown",
      "metadata": {
        "id": "yGqc8b9fIKAv",
        "colab_type": "text"
      },
      "source": [
        "### This concludes our notebook. You may refer to the report or presentation slides from detailed explanation. Thank you!"
      ]
    }
  ]
}